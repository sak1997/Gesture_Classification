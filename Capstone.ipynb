{
 "cells": [
  {
   "cell_type": "markdown",
   "metadata": {},
   "source": [
    "# Udacity Machine Learning Nanodegree\n",
    "\n",
    "# Capstone Project"
   ]
  },
  {
   "cell_type": "markdown",
   "metadata": {},
   "source": [
    "Hello there!\n",
    "\n",
    "This is my capstone project on building a model to make better prosthetics. \n",
    "\n",
    "This project is for an open source prosthetic control system which would enable prosthetic devices to have multiple degrees of freedom. https://github.com/cyber-punk-me\n",
    "The system is built of several components. It connects a muscle activity (EMG, Electromyography) sensor to a user Android/Android Things App. The app collects data, then a server builds a model specifically for this user. After that the model can be downloaded and executed on the device to control motors or other appendages.\n",
    "This dataset can be used to map user residual muscle gestures to certain actions of a prosthetic such as open/close hand or rotate wrist.\n",
    "\n",
    "This document is divided into 4 parts:\n",
    "- Data Exploration\n",
    "- Data Preprocessing\n",
    "- Evaluating & Comparing Models\n",
    "- Model Tuning"
   ]
  },
  {
   "cell_type": "markdown",
   "metadata": {},
   "source": [
    "## 1. Data Exploration\n"
   ]
  },
  {
   "cell_type": "markdown",
   "metadata": {},
   "source": [
    "In this section, we will look at the type of the data we are dealing with, and some visualizations that shall help ius better understand the data we are working with.\n",
    "\n",
    "In addition, we shall load the data and process it into a matter suitable for performing the above operations."
   ]
  },
  {
   "cell_type": "markdown",
   "metadata": {},
   "source": [
    "### 1.1 Loading the data"
   ]
  },
  {
   "cell_type": "code",
   "execution_count": 2,
   "metadata": {},
   "outputs": [],
   "source": [
    "# Import libraries necessary for this project\n",
    "import numpy as np\n",
    "import pandas as pd\n",
    "from time import time\n",
    "import seaborn as sns\n",
    "from IPython.display import display # Allows the use of display() for DataFrames\n",
    "import matplotlib.pyplot as plt\n",
    "import pandas\n",
    "from pandas.plotting import scatter_matrix"
   ]
  },
  {
   "cell_type": "markdown",
   "metadata": {},
   "source": [
    "Our data is present in 4 separate files, one for each class. \n",
    "\n",
    "First, we shall load them all into dataframes and take a peek into each of the datasets."
   ]
  },
  {
   "cell_type": "code",
   "execution_count": 3,
   "metadata": {},
   "outputs": [
    {
     "data": {
      "text/html": [
       "<div>\n",
       "<style scoped>\n",
       "    .dataframe tbody tr th:only-of-type {\n",
       "        vertical-align: middle;\n",
       "    }\n",
       "\n",
       "    .dataframe tbody tr th {\n",
       "        vertical-align: top;\n",
       "    }\n",
       "\n",
       "    .dataframe thead th {\n",
       "        text-align: right;\n",
       "    }\n",
       "</style>\n",
       "<table border=\"1\" class=\"dataframe\">\n",
       "  <thead>\n",
       "    <tr style=\"text-align: right;\">\n",
       "      <th></th>\n",
       "      <th>0</th>\n",
       "      <th>1</th>\n",
       "      <th>2</th>\n",
       "      <th>3</th>\n",
       "      <th>4</th>\n",
       "      <th>5</th>\n",
       "      <th>6</th>\n",
       "      <th>7</th>\n",
       "      <th>8</th>\n",
       "      <th>9</th>\n",
       "      <th>...</th>\n",
       "      <th>55</th>\n",
       "      <th>56</th>\n",
       "      <th>57</th>\n",
       "      <th>58</th>\n",
       "      <th>59</th>\n",
       "      <th>60</th>\n",
       "      <th>61</th>\n",
       "      <th>62</th>\n",
       "      <th>63</th>\n",
       "      <th>64</th>\n",
       "    </tr>\n",
       "  </thead>\n",
       "  <tbody>\n",
       "    <tr>\n",
       "      <th>0</th>\n",
       "      <td>26.0</td>\n",
       "      <td>4.0</td>\n",
       "      <td>5.0</td>\n",
       "      <td>8.0</td>\n",
       "      <td>-1.0</td>\n",
       "      <td>-13.0</td>\n",
       "      <td>-109.0</td>\n",
       "      <td>-66.0</td>\n",
       "      <td>-9.0</td>\n",
       "      <td>2.0</td>\n",
       "      <td>...</td>\n",
       "      <td>-28.0</td>\n",
       "      <td>61.0</td>\n",
       "      <td>4.0</td>\n",
       "      <td>8.0</td>\n",
       "      <td>5.0</td>\n",
       "      <td>4.0</td>\n",
       "      <td>-7.0</td>\n",
       "      <td>-59.0</td>\n",
       "      <td>16.0</td>\n",
       "      <td>0</td>\n",
       "    </tr>\n",
       "  </tbody>\n",
       "</table>\n",
       "<p>1 rows × 65 columns</p>\n",
       "</div>"
      ],
      "text/plain": [
       "     0    1    2    3    4     5      6     7    8    9  ...    55    56   57  \\\n",
       "0  26.0  4.0  5.0  8.0 -1.0 -13.0 -109.0 -66.0 -9.0  2.0 ... -28.0  61.0  4.0   \n",
       "\n",
       "    58   59   60   61    62    63  64  \n",
       "0  8.0  5.0  4.0 -7.0 -59.0  16.0   0  \n",
       "\n",
       "[1 rows x 65 columns]"
      ]
     },
     "metadata": {},
     "output_type": "display_data"
    },
    {
     "data": {
      "text/html": [
       "<div>\n",
       "<style scoped>\n",
       "    .dataframe tbody tr th:only-of-type {\n",
       "        vertical-align: middle;\n",
       "    }\n",
       "\n",
       "    .dataframe tbody tr th {\n",
       "        vertical-align: top;\n",
       "    }\n",
       "\n",
       "    .dataframe thead th {\n",
       "        text-align: right;\n",
       "    }\n",
       "</style>\n",
       "<table border=\"1\" class=\"dataframe\">\n",
       "  <thead>\n",
       "    <tr style=\"text-align: right;\">\n",
       "      <th></th>\n",
       "      <th>0</th>\n",
       "      <th>1</th>\n",
       "      <th>2</th>\n",
       "      <th>3</th>\n",
       "      <th>4</th>\n",
       "      <th>5</th>\n",
       "      <th>6</th>\n",
       "      <th>7</th>\n",
       "      <th>8</th>\n",
       "      <th>9</th>\n",
       "      <th>...</th>\n",
       "      <th>55</th>\n",
       "      <th>56</th>\n",
       "      <th>57</th>\n",
       "      <th>58</th>\n",
       "      <th>59</th>\n",
       "      <th>60</th>\n",
       "      <th>61</th>\n",
       "      <th>62</th>\n",
       "      <th>63</th>\n",
       "      <th>64</th>\n",
       "    </tr>\n",
       "  </thead>\n",
       "  <tbody>\n",
       "    <tr>\n",
       "      <th>0</th>\n",
       "      <td>-7.0</td>\n",
       "      <td>-1.0</td>\n",
       "      <td>-1.0</td>\n",
       "      <td>0.0</td>\n",
       "      <td>-10.0</td>\n",
       "      <td>-10.0</td>\n",
       "      <td>-1.0</td>\n",
       "      <td>1.0</td>\n",
       "      <td>-5.0</td>\n",
       "      <td>-5.0</td>\n",
       "      <td>...</td>\n",
       "      <td>6.0</td>\n",
       "      <td>-4.0</td>\n",
       "      <td>-3.0</td>\n",
       "      <td>-5.0</td>\n",
       "      <td>-3.0</td>\n",
       "      <td>15.0</td>\n",
       "      <td>11.0</td>\n",
       "      <td>-4.0</td>\n",
       "      <td>-5.0</td>\n",
       "      <td>1</td>\n",
       "    </tr>\n",
       "  </tbody>\n",
       "</table>\n",
       "<p>1 rows × 65 columns</p>\n",
       "</div>"
      ],
      "text/plain": [
       "    0    1    2    3     4     5    6    7    8    9  ...   55   56   57   58  \\\n",
       "0 -7.0 -1.0 -1.0  0.0 -10.0 -10.0 -1.0  1.0 -5.0 -5.0 ...  6.0 -4.0 -3.0 -5.0   \n",
       "\n",
       "    59    60    61   62   63  64  \n",
       "0 -3.0  15.0  11.0 -4.0 -5.0   1  \n",
       "\n",
       "[1 rows x 65 columns]"
      ]
     },
     "metadata": {},
     "output_type": "display_data"
    },
    {
     "data": {
      "text/html": [
       "<div>\n",
       "<style scoped>\n",
       "    .dataframe tbody tr th:only-of-type {\n",
       "        vertical-align: middle;\n",
       "    }\n",
       "\n",
       "    .dataframe tbody tr th {\n",
       "        vertical-align: top;\n",
       "    }\n",
       "\n",
       "    .dataframe thead th {\n",
       "        text-align: right;\n",
       "    }\n",
       "</style>\n",
       "<table border=\"1\" class=\"dataframe\">\n",
       "  <thead>\n",
       "    <tr style=\"text-align: right;\">\n",
       "      <th></th>\n",
       "      <th>0</th>\n",
       "      <th>1</th>\n",
       "      <th>2</th>\n",
       "      <th>3</th>\n",
       "      <th>4</th>\n",
       "      <th>5</th>\n",
       "      <th>6</th>\n",
       "      <th>7</th>\n",
       "      <th>8</th>\n",
       "      <th>9</th>\n",
       "      <th>...</th>\n",
       "      <th>55</th>\n",
       "      <th>56</th>\n",
       "      <th>57</th>\n",
       "      <th>58</th>\n",
       "      <th>59</th>\n",
       "      <th>60</th>\n",
       "      <th>61</th>\n",
       "      <th>62</th>\n",
       "      <th>63</th>\n",
       "      <th>64</th>\n",
       "    </tr>\n",
       "  </thead>\n",
       "  <tbody>\n",
       "    <tr>\n",
       "      <th>0</th>\n",
       "      <td>4.0</td>\n",
       "      <td>19.0</td>\n",
       "      <td>-9.0</td>\n",
       "      <td>-7.0</td>\n",
       "      <td>-3.0</td>\n",
       "      <td>-36.0</td>\n",
       "      <td>-6.0</td>\n",
       "      <td>-23.0</td>\n",
       "      <td>3.0</td>\n",
       "      <td>-21.0</td>\n",
       "      <td>...</td>\n",
       "      <td>9.0</td>\n",
       "      <td>-14.0</td>\n",
       "      <td>-2.0</td>\n",
       "      <td>-3.0</td>\n",
       "      <td>-4.0</td>\n",
       "      <td>-21.0</td>\n",
       "      <td>7.0</td>\n",
       "      <td>-8.0</td>\n",
       "      <td>-12.0</td>\n",
       "      <td>2</td>\n",
       "    </tr>\n",
       "  </tbody>\n",
       "</table>\n",
       "<p>1 rows × 65 columns</p>\n",
       "</div>"
      ],
      "text/plain": [
       "    0     1    2    3    4     5    6     7    8     9  ...   55    56   57  \\\n",
       "0  4.0  19.0 -9.0 -7.0 -3.0 -36.0 -6.0 -23.0  3.0 -21.0 ...  9.0 -14.0 -2.0   \n",
       "\n",
       "    58   59    60   61   62    63  64  \n",
       "0 -3.0 -4.0 -21.0  7.0 -8.0 -12.0   2  \n",
       "\n",
       "[1 rows x 65 columns]"
      ]
     },
     "metadata": {},
     "output_type": "display_data"
    },
    {
     "data": {
      "text/html": [
       "<div>\n",
       "<style scoped>\n",
       "    .dataframe tbody tr th:only-of-type {\n",
       "        vertical-align: middle;\n",
       "    }\n",
       "\n",
       "    .dataframe tbody tr th {\n",
       "        vertical-align: top;\n",
       "    }\n",
       "\n",
       "    .dataframe thead th {\n",
       "        text-align: right;\n",
       "    }\n",
       "</style>\n",
       "<table border=\"1\" class=\"dataframe\">\n",
       "  <thead>\n",
       "    <tr style=\"text-align: right;\">\n",
       "      <th></th>\n",
       "      <th>0</th>\n",
       "      <th>1</th>\n",
       "      <th>2</th>\n",
       "      <th>3</th>\n",
       "      <th>4</th>\n",
       "      <th>5</th>\n",
       "      <th>6</th>\n",
       "      <th>7</th>\n",
       "      <th>8</th>\n",
       "      <th>9</th>\n",
       "      <th>...</th>\n",
       "      <th>55</th>\n",
       "      <th>56</th>\n",
       "      <th>57</th>\n",
       "      <th>58</th>\n",
       "      <th>59</th>\n",
       "      <th>60</th>\n",
       "      <th>61</th>\n",
       "      <th>62</th>\n",
       "      <th>63</th>\n",
       "      <th>64</th>\n",
       "    </tr>\n",
       "  </thead>\n",
       "  <tbody>\n",
       "    <tr>\n",
       "      <th>0</th>\n",
       "      <td>-22.0</td>\n",
       "      <td>-9.0</td>\n",
       "      <td>-6.0</td>\n",
       "      <td>-1.0</td>\n",
       "      <td>21.0</td>\n",
       "      <td>26.0</td>\n",
       "      <td>-2.0</td>\n",
       "      <td>5.0</td>\n",
       "      <td>5.0</td>\n",
       "      <td>0.0</td>\n",
       "      <td>...</td>\n",
       "      <td>-10.0</td>\n",
       "      <td>-15.0</td>\n",
       "      <td>-6.0</td>\n",
       "      <td>-3.0</td>\n",
       "      <td>3.0</td>\n",
       "      <td>20.0</td>\n",
       "      <td>25.0</td>\n",
       "      <td>1.0</td>\n",
       "      <td>1.0</td>\n",
       "      <td>3</td>\n",
       "    </tr>\n",
       "  </tbody>\n",
       "</table>\n",
       "<p>1 rows × 65 columns</p>\n",
       "</div>"
      ],
      "text/plain": [
       "     0    1    2    3     4     5    6    7    8    9  ...    55    56   57  \\\n",
       "0 -22.0 -9.0 -6.0 -1.0  21.0  26.0 -2.0  5.0  5.0  0.0 ... -10.0 -15.0 -6.0   \n",
       "\n",
       "    58   59    60    61   62   63  64  \n",
       "0 -3.0  3.0  20.0  25.0  1.0  1.0   3  \n",
       "\n",
       "[1 rows x 65 columns]"
      ]
     },
     "metadata": {},
     "output_type": "display_data"
    }
   ],
   "source": [
    "# read dataframes - header=None is given as we do not have the headers in the .csv files\n",
    "data0 = pd.read_csv(\"0.csv\", header=None)\n",
    "data1 = pd.read_csv(\"1.csv\", header=None)\n",
    "data2 = pd.read_csv(\"2.csv\", header=None)\n",
    "data3 = pd.read_csv(\"3.csv\", header=None)\n",
    "\n",
    "# Display the first record\n",
    "display(data0.head(n=1))\n",
    "display(data1.head(n=1))\n",
    "display(data2.head(n=1))\n",
    "display(data3.head(n=1))"
   ]
  },
  {
   "cell_type": "markdown",
   "metadata": {},
   "source": [
    "As we can see above, the last column contains the category we are attempting to clasify i.e the target variable.\n",
    "\n",
    "Now, we need to combine these 4 Dataframes that we have into 1 big Dataframe so we can visualize different features and work further with the data.\n",
    "The below code does that, and also shows us the shape of the resulting dataframe."
   ]
  },
  {
   "cell_type": "code",
   "execution_count": 4,
   "metadata": {},
   "outputs": [
    {
     "data": {
      "text/plain": [
       "(11678, 65)"
      ]
     },
     "execution_count": 4,
     "metadata": {},
     "output_type": "execute_result"
    }
   ],
   "source": [
    "# append the dataframes into one unified dataset\n",
    "data = [data0, data1, data2, data3]\n",
    "data = pd.concat(data, sort=False)\n",
    "data.shape"
   ]
  },
  {
   "cell_type": "markdown",
   "metadata": {},
   "source": [
    "Now, we take a small peek into the resulting dataset."
   ]
  },
  {
   "cell_type": "code",
   "execution_count": 5,
   "metadata": {},
   "outputs": [
    {
     "data": {
      "text/html": [
       "<div>\n",
       "<style scoped>\n",
       "    .dataframe tbody tr th:only-of-type {\n",
       "        vertical-align: middle;\n",
       "    }\n",
       "\n",
       "    .dataframe tbody tr th {\n",
       "        vertical-align: top;\n",
       "    }\n",
       "\n",
       "    .dataframe thead th {\n",
       "        text-align: right;\n",
       "    }\n",
       "</style>\n",
       "<table border=\"1\" class=\"dataframe\">\n",
       "  <thead>\n",
       "    <tr style=\"text-align: right;\">\n",
       "      <th></th>\n",
       "      <th>0</th>\n",
       "      <th>1</th>\n",
       "      <th>2</th>\n",
       "      <th>3</th>\n",
       "      <th>4</th>\n",
       "      <th>5</th>\n",
       "      <th>6</th>\n",
       "      <th>7</th>\n",
       "      <th>8</th>\n",
       "      <th>9</th>\n",
       "      <th>...</th>\n",
       "      <th>55</th>\n",
       "      <th>56</th>\n",
       "      <th>57</th>\n",
       "      <th>58</th>\n",
       "      <th>59</th>\n",
       "      <th>60</th>\n",
       "      <th>61</th>\n",
       "      <th>62</th>\n",
       "      <th>63</th>\n",
       "      <th>64</th>\n",
       "    </tr>\n",
       "  </thead>\n",
       "  <tbody>\n",
       "    <tr>\n",
       "      <th>0</th>\n",
       "      <td>26.0</td>\n",
       "      <td>4.0</td>\n",
       "      <td>5.0</td>\n",
       "      <td>8.0</td>\n",
       "      <td>-1.0</td>\n",
       "      <td>-13.0</td>\n",
       "      <td>-109.0</td>\n",
       "      <td>-66.0</td>\n",
       "      <td>-9.0</td>\n",
       "      <td>2.0</td>\n",
       "      <td>...</td>\n",
       "      <td>-28.0</td>\n",
       "      <td>61.0</td>\n",
       "      <td>4.0</td>\n",
       "      <td>8.0</td>\n",
       "      <td>5.0</td>\n",
       "      <td>4.0</td>\n",
       "      <td>-7.0</td>\n",
       "      <td>-59.0</td>\n",
       "      <td>16.0</td>\n",
       "      <td>0</td>\n",
       "    </tr>\n",
       "  </tbody>\n",
       "</table>\n",
       "<p>1 rows × 65 columns</p>\n",
       "</div>"
      ],
      "text/plain": [
       "     0    1    2    3    4     5      6     7    8    9  ...    55    56   57  \\\n",
       "0  26.0  4.0  5.0  8.0 -1.0 -13.0 -109.0 -66.0 -9.0  2.0 ... -28.0  61.0  4.0   \n",
       "\n",
       "    58   59   60   61    62    63  64  \n",
       "0  8.0  5.0  4.0 -7.0 -59.0  16.0   0  \n",
       "\n",
       "[1 rows x 65 columns]"
      ]
     },
     "execution_count": 5,
     "metadata": {},
     "output_type": "execute_result"
    }
   ],
   "source": [
    "data.head(n=1)"
   ]
  },
  {
   "cell_type": "markdown",
   "metadata": {},
   "source": [
    "Finally, since we concatenated the separate datsets earlier into out current dataset, this means that the data is arranged by the output variable in the order of concatenation.\n",
    "\n",
    "We need to shuffle the data so that our algorithms do not get too biased in any one way or the other. If we do not do this, in case we are using algorithms like K-fold validation to help our classifiers better model the data, the models will wind up not learning from the data properly as the uneven spread will be problematic."
   ]
  },
  {
   "cell_type": "code",
   "execution_count": 6,
   "metadata": {},
   "outputs": [
    {
     "data": {
      "text/plain": [
       "(11678, 65)"
      ]
     },
     "execution_count": 6,
     "metadata": {},
     "output_type": "execute_result"
    }
   ],
   "source": [
    "# Shuffle the dataframe to randomize\n",
    "data = data.sample(frac=1)\n",
    "data.shape"
   ]
  },
  {
   "cell_type": "markdown",
   "metadata": {},
   "source": [
    "## 1.2 Data Visualization"
   ]
  },
  {
   "cell_type": "markdown",
   "metadata": {},
   "source": [
    "Now, we shall visualize the data to get a better understanding of how it is distributed.\n",
    "\n",
    "Before that, we split the data into independant variables X (or features) and the dependant variable y (target variable)."
   ]
  },
  {
   "cell_type": "code",
   "execution_count": 7,
   "metadata": {},
   "outputs": [],
   "source": [
    "X = data.drop([64],axis=1)\n",
    "y = data[[64]]"
   ]
  },
  {
   "cell_type": "markdown",
   "metadata": {},
   "source": [
    "Below, we plot histograms for each of the 64 features we have in out dataset. This will help us get a better understanding of how the data is distributed."
   ]
  },
  {
   "cell_type": "code",
   "execution_count": 1,
   "metadata": {},
   "outputs": [
    {
     "ename": "NameError",
     "evalue": "name 'plt' is not defined",
     "output_type": "error",
     "traceback": [
      "\u001b[1;31m---------------------------------------------------------------------------\u001b[0m",
      "\u001b[1;31mNameError\u001b[0m                                 Traceback (most recent call last)",
      "\u001b[1;32m<ipython-input-1-3c8133e28f6b>\u001b[0m in \u001b[0;36m<module>\u001b[1;34m\u001b[0m\n\u001b[0;32m      1\u001b[0m \u001b[0mget_ipython\u001b[0m\u001b[1;33m(\u001b[0m\u001b[1;33m)\u001b[0m\u001b[1;33m.\u001b[0m\u001b[0mrun_line_magic\u001b[0m\u001b[1;33m(\u001b[0m\u001b[1;34m'matplotlib'\u001b[0m\u001b[1;33m,\u001b[0m \u001b[1;34m'inline'\u001b[0m\u001b[1;33m)\u001b[0m\u001b[1;33m\u001b[0m\u001b[0m\n\u001b[1;32m----> 2\u001b[1;33m \u001b[0mplt\u001b[0m\u001b[1;33m.\u001b[0m\u001b[0mrcParams\u001b[0m\u001b[1;33m[\u001b[0m\u001b[1;34m\"figure.figsize\"\u001b[0m\u001b[1;33m]\u001b[0m \u001b[1;33m=\u001b[0m \u001b[1;33m[\u001b[0m\u001b[1;36m16\u001b[0m\u001b[1;33m,\u001b[0m\u001b[1;36m9\u001b[0m\u001b[1;33m]\u001b[0m\u001b[1;33m\u001b[0m\u001b[0m\n\u001b[0m\u001b[0;32m      3\u001b[0m \u001b[0mfig\u001b[0m \u001b[1;33m=\u001b[0m \u001b[0mplt\u001b[0m\u001b[1;33m.\u001b[0m\u001b[0mfigure\u001b[0m\u001b[1;33m(\u001b[0m\u001b[0mfigsize\u001b[0m \u001b[1;33m=\u001b[0m \u001b[1;33m(\u001b[0m\u001b[1;36m15\u001b[0m\u001b[1;33m,\u001b[0m\u001b[1;36m20\u001b[0m\u001b[1;33m)\u001b[0m\u001b[1;33m)\u001b[0m\u001b[1;33m\u001b[0m\u001b[0m\n\u001b[0;32m      4\u001b[0m \u001b[0max\u001b[0m \u001b[1;33m=\u001b[0m \u001b[0mfig\u001b[0m\u001b[1;33m.\u001b[0m\u001b[0mgca\u001b[0m\u001b[1;33m(\u001b[0m\u001b[1;33m)\u001b[0m\u001b[1;33m\u001b[0m\u001b[0m\n\u001b[0;32m      5\u001b[0m \u001b[0mX\u001b[0m\u001b[1;33m.\u001b[0m\u001b[0mhist\u001b[0m\u001b[1;33m(\u001b[0m\u001b[0max\u001b[0m \u001b[1;33m=\u001b[0m \u001b[0max\u001b[0m\u001b[1;33m)\u001b[0m\u001b[1;33m\u001b[0m\u001b[0m\n",
      "\u001b[1;31mNameError\u001b[0m: name 'plt' is not defined"
     ]
    }
   ],
   "source": [
    "%matplotlib inline\n",
    "fig = plt.figure(figsize = (15,20))\n",
    "ax = fig.gca()\n",
    "X.hist(ax = ax)\n",
    "plt.show()"
   ]
  },
  {
   "cell_type": "markdown",
   "metadata": {},
   "source": [
    "Now, we will plot a heatmap of the features in our dataset. From here, we can intuitively tell if correlations exist between the different features. "
   ]
  },
  {
   "cell_type": "code",
   "execution_count": 9,
   "metadata": {},
   "outputs": [
    {
     "data": {
      "text/plain": [
       "(array([ 0.5,  2.5,  4.5,  6.5,  8.5, 10.5, 12.5, 14.5, 16.5, 18.5, 20.5,\n",
       "        22.5, 24.5, 26.5, 28.5, 30.5, 32.5, 34.5, 36.5, 38.5, 40.5, 42.5,\n",
       "        44.5, 46.5, 48.5, 50.5, 52.5, 54.5, 56.5, 58.5, 60.5, 62.5]),\n",
       " <a list of 32 Text yticklabel objects>)"
      ]
     },
     "execution_count": 9,
     "metadata": {},
     "output_type": "execute_result"
    },
    {
     "data": {
      "image/png": "[encoded data removed]",
      "text/plain": [
       "<Figure size 1080x720 with 2 Axes>"
      ]
     },
     "metadata": {
      "needs_background": "light"
     },
     "output_type": "display_data"
    }
   ],
   "source": [
    "plt.figure(figsize=(15, 10))\n",
    "sns.heatmap(X.corr())\n",
    "plt.xticks(rotation=90)\n",
    "plt.yticks(rotation=0)"
   ]
  },
  {
   "cell_type": "markdown",
   "metadata": {},
   "source": [
    "From the above, we can see that there is not much correlation between the different features in the datasets. \n",
    "\n",
    "This can indicate that doing PCA might not be of much help here, as there is not much correlation to draw off to make the eigenvectors that would be representative of the variance in the data."
   ]
  },
  {
   "cell_type": "markdown",
   "metadata": {},
   "source": [
    "## 1.3 Training and Testing Sets\n",
    "\n",
    "Below, We shall spilt the data into train and test sets."
   ]
  },
  {
   "cell_type": "code",
   "execution_count": 10,
   "metadata": {},
   "outputs": [],
   "source": [
    "# Train test split to get train and test sets\n",
    "from sklearn.model_selection import train_test_split\n",
    "\n",
    "# Split\n",
    "X_tr, X_test, y_tr, y_test = train_test_split(X, y, test_size=0.2, random_state=0)"
   ]
  },
  {
   "cell_type": "markdown",
   "metadata": {},
   "source": [
    "## 1.4 Benchmark Model"
   ]
  },
  {
   "cell_type": "code",
   "execution_count": 13,
   "metadata": {},
   "outputs": [
    {
     "data": {
      "text/plain": [
       "DecisionTreeClassifier(class_weight=None, criterion='gini', max_depth=None,\n",
       "            max_features=None, max_leaf_nodes=None,\n",
       "            min_impurity_decrease=0.0, min_impurity_split=None,\n",
       "            min_samples_leaf=1, min_samples_split=2,\n",
       "            min_weight_fraction_leaf=0.0, presort=False, random_state=None,\n",
       "            splitter='best')"
      ]
     },
     "execution_count": 13,
     "metadata": {},
     "output_type": "execute_result"
    }
   ],
   "source": [
    "from sklearn import tree\n",
    "from sklearn.metrics import accuracy_score\n",
    "from sklearn.metrics import f1_score\n",
    "clf = tree.DecisionTreeClassifier()\n",
    "clf.fit(X_tr, y_tr)"
   ]
  },
  {
   "cell_type": "code",
   "execution_count": 14,
   "metadata": {},
   "outputs": [
    {
     "name": "stdout",
     "output_type": "stream",
     "text": [
      "Accuracy \n",
      "\n",
      "0.791095890410959\n",
      "\n",
      "F1 Score \n",
      "\n",
      "0.791095890410959\n"
     ]
    }
   ],
   "source": [
    "y_pred = clf.predict(X_test)\n",
    "print(\"Accuracy \\n\")\n",
    "print(accuracy_score(y_pred, y_test))\n",
    "print(\"\\nF1 Score \\n\")\n",
    "print(f1_score(y_pred, y_test, average = 'micro'))"
   ]
  },
  {
   "cell_type": "markdown",
   "metadata": {},
   "source": [
    "# 2. Data Preprocessing\n",
    "\n",
    "Here, we shall perform 2 major tasks:\n",
    "\n",
    "- Feature Scaling : In case the As the data is sensor data, and is numerical data reported from different sensors. This means that some features could be disproportionately larger than the others. This would cause issues with the algorithm we’ll be using to model this problem.\n",
    "\n",
    "\n",
    "- Principal Component Analysis: As the data is collected for a whole hand, there are chances that some of the different features might be correlated to one another. This could also mean that the model would be affected. For PCA, we shall test and see how well the correlations come out to be, and if they are useful at all by testing the efficacy of an algorithm pre and post PCA."
   ]
  },
  {
   "cell_type": "markdown",
   "metadata": {},
   "source": [
    "## 2.0 Cleaning The Data\n",
    "\n",
    "Here, we shall check to see if there are any empty or null values in our dataset. In case there are, we can replace these by a representative statistic of our choice. (ex: mean, median etc.)"
   ]
  },
  {
   "cell_type": "code",
   "execution_count": 10,
   "metadata": {},
   "outputs": [
    {
     "data": {
      "text/plain": [
       "0     0\n",
       "1     0\n",
       "2     0\n",
       "3     0\n",
       "4     0\n",
       "5     0\n",
       "6     0\n",
       "7     0\n",
       "8     0\n",
       "9     0\n",
       "10    0\n",
       "11    0\n",
       "12    0\n",
       "13    0\n",
       "14    0\n",
       "15    0\n",
       "16    0\n",
       "17    0\n",
       "18    0\n",
       "19    0\n",
       "20    0\n",
       "21    0\n",
       "22    0\n",
       "23    0\n",
       "24    0\n",
       "25    0\n",
       "26    0\n",
       "27    0\n",
       "28    0\n",
       "29    0\n",
       "     ..\n",
       "34    0\n",
       "35    0\n",
       "36    0\n",
       "37    0\n",
       "38    0\n",
       "39    0\n",
       "40    0\n",
       "41    0\n",
       "42    0\n",
       "43    0\n",
       "44    0\n",
       "45    0\n",
       "46    0\n",
       "47    0\n",
       "48    0\n",
       "49    0\n",
       "50    0\n",
       "51    0\n",
       "52    0\n",
       "53    0\n",
       "54    0\n",
       "55    0\n",
       "56    0\n",
       "57    0\n",
       "58    0\n",
       "59    0\n",
       "60    0\n",
       "61    0\n",
       "62    0\n",
       "63    0\n",
       "Length: 64, dtype: int64"
      ]
     },
     "execution_count": 10,
     "metadata": {},
     "output_type": "execute_result"
    }
   ],
   "source": [
    "X.isnull().sum()"
   ]
  },
  {
   "cell_type": "markdown",
   "metadata": {},
   "source": [
    "As we can see above, we do not have any null values in our dataset. This means that we can go ahead and use it straight away."
   ]
  },
  {
   "cell_type": "markdown",
   "metadata": {},
   "source": [
    "## 2.1 Feature Scaling\n",
    "\n",
    "We shall now perform feature scaling on our data.\n",
    "We shall also see a visualization similar to earlier."
   ]
  },
  {
   "cell_type": "code",
   "execution_count": 11,
   "metadata": {},
   "outputs": [],
   "source": [
    "# Feature Scaling\n",
    "from sklearn.preprocessing import MinMaxScaler\n",
    "scaler = MinMaxScaler()\n",
    "X = data.drop([64],axis=1)\n",
    "rescaled_X = scaler.fit_transform(X)"
   ]
  },
  {
   "cell_type": "code",
   "execution_count": 12,
   "metadata": {},
   "outputs": [],
   "source": [
    "rescaled_X = pd.DataFrame(rescaled_X)"
   ]
  },
  {
   "cell_type": "code",
   "execution_count": 13,
   "metadata": {},
   "outputs": [
    {
     "data": {
      "text/html": [
       "<div>\n",
       "<style scoped>\n",
       "    .dataframe tbody tr th:only-of-type {\n",
       "        vertical-align: middle;\n",
       "    }\n",
       "\n",
       "    .dataframe tbody tr th {\n",
       "        vertical-align: top;\n",
       "    }\n",
       "\n",
       "    .dataframe thead th {\n",
       "        text-align: right;\n",
       "    }\n",
       "</style>\n",
       "<table border=\"1\" class=\"dataframe\">\n",
       "  <thead>\n",
       "    <tr style=\"text-align: right;\">\n",
       "      <th></th>\n",
       "      <th>0</th>\n",
       "      <th>1</th>\n",
       "      <th>2</th>\n",
       "      <th>3</th>\n",
       "      <th>4</th>\n",
       "      <th>5</th>\n",
       "      <th>6</th>\n",
       "      <th>7</th>\n",
       "      <th>8</th>\n",
       "      <th>9</th>\n",
       "      <th>...</th>\n",
       "      <th>54</th>\n",
       "      <th>55</th>\n",
       "      <th>56</th>\n",
       "      <th>57</th>\n",
       "      <th>58</th>\n",
       "      <th>59</th>\n",
       "      <th>60</th>\n",
       "      <th>61</th>\n",
       "      <th>62</th>\n",
       "      <th>63</th>\n",
       "    </tr>\n",
       "  </thead>\n",
       "  <tbody>\n",
       "    <tr>\n",
       "      <th>0</th>\n",
       "      <td>0.537445</td>\n",
       "      <td>0.551546</td>\n",
       "      <td>0.522388</td>\n",
       "      <td>0.592308</td>\n",
       "      <td>0.727700</td>\n",
       "      <td>0.614458</td>\n",
       "      <td>0.525490</td>\n",
       "      <td>0.539370</td>\n",
       "      <td>0.468354</td>\n",
       "      <td>0.529915</td>\n",
       "      <td>...</td>\n",
       "      <td>0.494118</td>\n",
       "      <td>0.438017</td>\n",
       "      <td>0.576132</td>\n",
       "      <td>0.566524</td>\n",
       "      <td>0.653333</td>\n",
       "      <td>0.616</td>\n",
       "      <td>0.502347</td>\n",
       "      <td>0.650980</td>\n",
       "      <td>0.549020</td>\n",
       "      <td>0.545817</td>\n",
       "    </tr>\n",
       "    <tr>\n",
       "      <th>1</th>\n",
       "      <td>0.466960</td>\n",
       "      <td>0.520619</td>\n",
       "      <td>0.432836</td>\n",
       "      <td>0.569231</td>\n",
       "      <td>0.619718</td>\n",
       "      <td>0.526104</td>\n",
       "      <td>0.482353</td>\n",
       "      <td>0.492126</td>\n",
       "      <td>0.421941</td>\n",
       "      <td>0.538462</td>\n",
       "      <td>...</td>\n",
       "      <td>0.509804</td>\n",
       "      <td>0.541322</td>\n",
       "      <td>0.469136</td>\n",
       "      <td>0.532189</td>\n",
       "      <td>0.586667</td>\n",
       "      <td>0.560</td>\n",
       "      <td>0.488263</td>\n",
       "      <td>0.462745</td>\n",
       "      <td>0.486275</td>\n",
       "      <td>0.501992</td>\n",
       "    </tr>\n",
       "    <tr>\n",
       "      <th>2</th>\n",
       "      <td>0.484581</td>\n",
       "      <td>0.530928</td>\n",
       "      <td>0.507463</td>\n",
       "      <td>0.600000</td>\n",
       "      <td>0.610329</td>\n",
       "      <td>0.514056</td>\n",
       "      <td>0.498039</td>\n",
       "      <td>0.488189</td>\n",
       "      <td>0.426160</td>\n",
       "      <td>0.542735</td>\n",
       "      <td>...</td>\n",
       "      <td>0.533333</td>\n",
       "      <td>0.549587</td>\n",
       "      <td>0.465021</td>\n",
       "      <td>0.540773</td>\n",
       "      <td>0.600000</td>\n",
       "      <td>0.576</td>\n",
       "      <td>0.516432</td>\n",
       "      <td>0.435294</td>\n",
       "      <td>0.466667</td>\n",
       "      <td>0.474104</td>\n",
       "    </tr>\n",
       "    <tr>\n",
       "      <th>3</th>\n",
       "      <td>0.599119</td>\n",
       "      <td>0.680412</td>\n",
       "      <td>0.656716</td>\n",
       "      <td>0.600000</td>\n",
       "      <td>0.568075</td>\n",
       "      <td>0.558233</td>\n",
       "      <td>0.525490</td>\n",
       "      <td>0.547244</td>\n",
       "      <td>0.464135</td>\n",
       "      <td>0.487179</td>\n",
       "      <td>...</td>\n",
       "      <td>0.486275</td>\n",
       "      <td>0.553719</td>\n",
       "      <td>0.563786</td>\n",
       "      <td>0.618026</td>\n",
       "      <td>0.613333</td>\n",
       "      <td>0.592</td>\n",
       "      <td>0.497653</td>\n",
       "      <td>0.631373</td>\n",
       "      <td>0.517647</td>\n",
       "      <td>0.509960</td>\n",
       "    </tr>\n",
       "    <tr>\n",
       "      <th>4</th>\n",
       "      <td>0.422907</td>\n",
       "      <td>0.520619</td>\n",
       "      <td>0.477612</td>\n",
       "      <td>0.546154</td>\n",
       "      <td>0.511737</td>\n",
       "      <td>0.281124</td>\n",
       "      <td>0.505882</td>\n",
       "      <td>0.503937</td>\n",
       "      <td>0.447257</td>\n",
       "      <td>0.542735</td>\n",
       "      <td>...</td>\n",
       "      <td>0.513725</td>\n",
       "      <td>0.595041</td>\n",
       "      <td>0.444444</td>\n",
       "      <td>0.549356</td>\n",
       "      <td>0.640000</td>\n",
       "      <td>0.600</td>\n",
       "      <td>0.483568</td>\n",
       "      <td>0.466667</td>\n",
       "      <td>0.494118</td>\n",
       "      <td>0.454183</td>\n",
       "    </tr>\n",
       "  </tbody>\n",
       "</table>\n",
       "<p>5 rows × 64 columns</p>\n",
       "</div>"
      ],
      "text/plain": [
       "         0         1         2         3         4         5         6   \\\n",
       "0  0.537445  0.551546  0.522388  0.592308  0.727700  0.614458  0.525490   \n",
       "1  0.466960  0.520619  0.432836  0.569231  0.619718  0.526104  0.482353   \n",
       "2  0.484581  0.530928  0.507463  0.600000  0.610329  0.514056  0.498039   \n",
       "3  0.599119  0.680412  0.656716  0.600000  0.568075  0.558233  0.525490   \n",
       "4  0.422907  0.520619  0.477612  0.546154  0.511737  0.281124  0.505882   \n",
       "\n",
       "         7         8         9     ...           54        55        56  \\\n",
       "0  0.539370  0.468354  0.529915    ...     0.494118  0.438017  0.576132   \n",
       "1  0.492126  0.421941  0.538462    ...     0.509804  0.541322  0.469136   \n",
       "2  0.488189  0.426160  0.542735    ...     0.533333  0.549587  0.465021   \n",
       "3  0.547244  0.464135  0.487179    ...     0.486275  0.553719  0.563786   \n",
       "4  0.503937  0.447257  0.542735    ...     0.513725  0.595041  0.444444   \n",
       "\n",
       "         57        58     59        60        61        62        63  \n",
       "0  0.566524  0.653333  0.616  0.502347  0.650980  0.549020  0.545817  \n",
       "1  0.532189  0.586667  0.560  0.488263  0.462745  0.486275  0.501992  \n",
       "2  0.540773  0.600000  0.576  0.516432  0.435294  0.466667  0.474104  \n",
       "3  0.618026  0.613333  0.592  0.497653  0.631373  0.517647  0.509960  \n",
       "4  0.549356  0.640000  0.600  0.483568  0.466667  0.494118  0.454183  \n",
       "\n",
       "[5 rows x 64 columns]"
      ]
     },
     "execution_count": 13,
     "metadata": {},
     "output_type": "execute_result"
    }
   ],
   "source": [
    "rescaled_X.head()"
   ]
  },
  {
   "cell_type": "code",
   "execution_count": 14,
   "metadata": {},
   "outputs": [],
   "source": [
    "X = rescaled_X"
   ]
  },
  {
   "cell_type": "code",
   "execution_count": 15,
   "metadata": {},
   "outputs": [],
   "source": [
    "import matplotlib.pyplot as plt\n",
    "import pandas\n",
    "from pandas.plotting import scatter_matrix"
   ]
  },
  {
   "cell_type": "code",
   "execution_count": 16,
   "metadata": {},
   "outputs": [
    {
     "name": "stderr",
     "output_type": "stream",
     "text": [
      "c:\\users\\athithya\\anaconda3\\envs\\tf_gpu\\lib\\site-packages\\IPython\\core\\interactiveshell.py:3267: UserWarning: To output multiple subplots, the figure containing the passed axes is being cleared\n",
      "  exec(code_obj, self.user_global_ns, self.user_ns)\n"
     ]
    },
    {
     "data": {
      "image/png": "[encoded data removed]",
      "text/plain": [
       "<Figure size 1080x1440 with 64 Axes>"
      ]
     },
     "metadata": {
      "needs_background": "light"
     },
     "output_type": "display_data"
    }
   ],
   "source": [
    "%matplotlib inline\n",
    "fig = plt.figure(figsize = (15,20))\n",
    "ax = fig.gca()\n",
    "X.hist(ax = ax)\n",
    "plt.show()"
   ]
  },
  {
   "cell_type": "markdown",
   "metadata": {},
   "source": [
    "Now, we have scaled all of our features. \n",
    "The graphs above show that they are within the range of [0,1]."
   ]
  },
  {
   "cell_type": "markdown",
   "metadata": {},
   "source": [
    "## 2.2 Testing with a model before PCA\n",
    "\n",
    "Based on the data visualization seen above, we can see that the data is now in the range [0,1]. \n",
    "\n",
    "As we are unsure based on the heatmap we plotted earlier as to how well PCA will work, we will check how well the same classifier models the data before and after doing PCA.\n",
    "\n",
    "We shall now train a Random Forest Classifier on the this data. "
   ]
  },
  {
   "cell_type": "code",
   "execution_count": 17,
   "metadata": {},
   "outputs": [],
   "source": [
    "# Train test split to get train and test sets\n",
    "from sklearn.model_selection import train_test_split\n",
    "X_train, X_test, y_train, y_test = train_test_split(X, y, test_size=0.2, random_state=0)"
   ]
  },
  {
   "cell_type": "code",
   "execution_count": 18,
   "metadata": {},
   "outputs": [
    {
     "name": "stderr",
     "output_type": "stream",
     "text": [
      "c:\\users\\athithya\\anaconda3\\envs\\tf_gpu\\lib\\site-packages\\sklearn\\ensemble\\forest.py:246: FutureWarning: The default value of n_estimators will change from 10 in version 0.20 to 100 in 0.22.\n",
      "  \"10 in version 0.20 to 100 in 0.22.\", FutureWarning)\n",
      "c:\\users\\athithya\\anaconda3\\envs\\tf_gpu\\lib\\site-packages\\ipykernel_launcher.py:5: DataConversionWarning: A column-vector y was passed when a 1d array was expected. Please change the shape of y to (n_samples,), for example using ravel().\n",
      "  \"\"\"\n"
     ]
    },
    {
     "name": "stdout",
     "output_type": "stream",
     "text": [
      "Accuracy \n",
      "\n",
      "0.8202054794520548\n",
      "\n",
      "F1 Score \n",
      "\n",
      "0.8202054794520548\n"
     ]
    }
   ],
   "source": [
    "from sklearn.ensemble import RandomForestClassifier\n",
    "from sklearn.metrics import accuracy_score\n",
    "from sklearn.metrics import f1_score\n",
    "clf = RandomForestClassifier(random_state=100, max_depth=7)\n",
    "clf.fit(X_train, y_train)\n",
    "y_pred = clf.predict(X_test)\n",
    "print(\"Accuracy \\n\")\n",
    "print(accuracy_score(y_pred, y_test))\n",
    "print(\"\\nF1 Score \\n\")\n",
    "print(f1_score(y_pred, y_test, average = 'micro'))"
   ]
  },
  {
   "cell_type": "markdown",
   "metadata": {},
   "source": [
    "So, as we can see above, we get an accuracy of 82% and a F1-score of about 82%.\n",
    "\n",
    "Let us continue by checking how this model performs on out testing set."
   ]
  },
  {
   "cell_type": "markdown",
   "metadata": {},
   "source": [
    "## 2.3 PCA\n",
    "\n",
    "Here, we shall be applying PCA onto the data, and checking how well PCA captures the variance of the data."
   ]
  },
  {
   "cell_type": "code",
   "execution_count": 19,
   "metadata": {},
   "outputs": [
    {
     "data": {
      "text/plain": [
       "PCA(copy=True, iterated_power='auto', n_components=32, random_state=None,\n",
       "  svd_solver='auto', tol=0.0, whiten=False)"
      ]
     },
     "execution_count": 19,
     "metadata": {},
     "output_type": "execute_result"
    }
   ],
   "source": [
    "# PCA\n",
    "from sklearn.decomposition import PCA\n",
    "pca = PCA(n_components=32)\n",
    "pca.fit(X)"
   ]
  },
  {
   "cell_type": "code",
   "execution_count": 20,
   "metadata": {
    "scrolled": true
   },
   "outputs": [
    {
     "name": "stdout",
     "output_type": "stream",
     "text": [
      "[0.06355192 0.06068093 0.05232303 0.04682559 0.0444351  0.04126497\n",
      " 0.03950002 0.03874431 0.03412771 0.02693582 0.02604259 0.0253622\n",
      " 0.024697   0.0241161  0.02279142 0.02208147 0.02161344 0.02055763\n",
      " 0.01881507 0.01807716 0.01709244 0.01645739 0.01576337 0.01516021\n",
      " 0.01362832 0.01282726 0.01255563 0.01174782 0.011478   0.01116256\n",
      " 0.01077317 0.01029567]\n",
      "0.8314853121498679\n"
     ]
    }
   ],
   "source": [
    "print(pca.explained_variance_ratio_)\n",
    "print(sum(pca.explained_variance_ratio_))"
   ]
  },
  {
   "cell_type": "markdown",
   "metadata": {},
   "source": [
    "The feature with the highest variance in the data captures ~6% of the variance in the data, which is not a great result. \n",
    "\n",
    "This corroborates what we saw in the heatmap earlier - there is not much correlation between the features in this dataset."
   ]
  },
  {
   "cell_type": "code",
   "execution_count": 21,
   "metadata": {},
   "outputs": [],
   "source": [
    "x = X\n",
    "nx = pca.transform(X)\n",
    "X=pd.DataFrame(nx)\n",
    "y = data[[64]]"
   ]
  },
  {
   "cell_type": "markdown",
   "metadata": {},
   "source": [
    "## 2.4 Testing with a model after PCA"
   ]
  },
  {
   "cell_type": "markdown",
   "metadata": {},
   "source": [
    "So, as we can see above, the features obtained as a result of PCA do not seem to help in reducing the dimensionality of the data, nor do they seem to adequately capture the variance in our dataset.\n",
    "\n",
    "Let us continue by checking how the same Random Forest performs on the features obtained through PCA."
   ]
  },
  {
   "cell_type": "code",
   "execution_count": 22,
   "metadata": {},
   "outputs": [],
   "source": [
    "# Train test split to get train and test sets\n",
    "from sklearn.model_selection import train_test_split\n",
    "X_train, X_test, y_train, y_test = train_test_split(X, y, test_size=0.2, random_state=0)"
   ]
  },
  {
   "cell_type": "code",
   "execution_count": 23,
   "metadata": {},
   "outputs": [
    {
     "name": "stderr",
     "output_type": "stream",
     "text": [
      "c:\\users\\athithya\\anaconda3\\envs\\tf_gpu\\lib\\site-packages\\sklearn\\ensemble\\forest.py:246: FutureWarning: The default value of n_estimators will change from 10 in version 0.20 to 100 in 0.22.\n",
      "  \"10 in version 0.20 to 100 in 0.22.\", FutureWarning)\n",
      "c:\\users\\athithya\\anaconda3\\envs\\tf_gpu\\lib\\site-packages\\ipykernel_launcher.py:5: DataConversionWarning: A column-vector y was passed when a 1d array was expected. Please change the shape of y to (n_samples,), for example using ravel().\n",
      "  \"\"\"\n"
     ]
    },
    {
     "name": "stdout",
     "output_type": "stream",
     "text": [
      "Accuracy \n",
      "\n",
      "0.5659246575342466\n",
      "\n",
      "F1 Score \n",
      "\n",
      "0.5659246575342466\n"
     ]
    }
   ],
   "source": [
    "from sklearn.ensemble import RandomForestClassifier\n",
    "from sklearn.metrics import accuracy_score\n",
    "from sklearn.metrics import f1_score\n",
    "clf = RandomForestClassifier(random_state=42, max_depth=7)\n",
    "clf.fit(X_train, y_train)\n",
    "y_pred = clf.predict(X_test)\n",
    "print(\"Accuracy \\n\")\n",
    "print(accuracy_score(y_pred, y_test))\n",
    "print(\"\\nF1 Score \\n\")\n",
    "print(f1_score(y_pred, y_test, average = 'micro'))"
   ]
  },
  {
   "cell_type": "markdown",
   "metadata": {},
   "source": [
    "So, it looks like PCA did not help much after all in our case. In fact, it has reduced the accuracy of our classifier.\n",
    "\n",
    "In this scenario, it would be better to leave the cleaned data as it is and not perform PCA."
   ]
  },
  {
   "cell_type": "code",
   "execution_count": 24,
   "metadata": {},
   "outputs": [
    {
     "data": {
      "text/html": [
       "<div>\n",
       "<style scoped>\n",
       "    .dataframe tbody tr th:only-of-type {\n",
       "        vertical-align: middle;\n",
       "    }\n",
       "\n",
       "    .dataframe tbody tr th {\n",
       "        vertical-align: top;\n",
       "    }\n",
       "\n",
       "    .dataframe thead th {\n",
       "        text-align: right;\n",
       "    }\n",
       "</style>\n",
       "<table border=\"1\" class=\"dataframe\">\n",
       "  <thead>\n",
       "    <tr style=\"text-align: right;\">\n",
       "      <th></th>\n",
       "      <th>0</th>\n",
       "      <th>1</th>\n",
       "      <th>2</th>\n",
       "      <th>3</th>\n",
       "      <th>4</th>\n",
       "      <th>5</th>\n",
       "      <th>6</th>\n",
       "      <th>7</th>\n",
       "      <th>8</th>\n",
       "      <th>9</th>\n",
       "      <th>...</th>\n",
       "      <th>54</th>\n",
       "      <th>55</th>\n",
       "      <th>56</th>\n",
       "      <th>57</th>\n",
       "      <th>58</th>\n",
       "      <th>59</th>\n",
       "      <th>60</th>\n",
       "      <th>61</th>\n",
       "      <th>62</th>\n",
       "      <th>63</th>\n",
       "    </tr>\n",
       "  </thead>\n",
       "  <tbody>\n",
       "    <tr>\n",
       "      <th>0</th>\n",
       "      <td>0.537445</td>\n",
       "      <td>0.551546</td>\n",
       "      <td>0.522388</td>\n",
       "      <td>0.592308</td>\n",
       "      <td>0.727700</td>\n",
       "      <td>0.614458</td>\n",
       "      <td>0.525490</td>\n",
       "      <td>0.539370</td>\n",
       "      <td>0.468354</td>\n",
       "      <td>0.529915</td>\n",
       "      <td>...</td>\n",
       "      <td>0.494118</td>\n",
       "      <td>0.438017</td>\n",
       "      <td>0.576132</td>\n",
       "      <td>0.566524</td>\n",
       "      <td>0.653333</td>\n",
       "      <td>0.616</td>\n",
       "      <td>0.502347</td>\n",
       "      <td>0.650980</td>\n",
       "      <td>0.549020</td>\n",
       "      <td>0.545817</td>\n",
       "    </tr>\n",
       "    <tr>\n",
       "      <th>1</th>\n",
       "      <td>0.466960</td>\n",
       "      <td>0.520619</td>\n",
       "      <td>0.432836</td>\n",
       "      <td>0.569231</td>\n",
       "      <td>0.619718</td>\n",
       "      <td>0.526104</td>\n",
       "      <td>0.482353</td>\n",
       "      <td>0.492126</td>\n",
       "      <td>0.421941</td>\n",
       "      <td>0.538462</td>\n",
       "      <td>...</td>\n",
       "      <td>0.509804</td>\n",
       "      <td>0.541322</td>\n",
       "      <td>0.469136</td>\n",
       "      <td>0.532189</td>\n",
       "      <td>0.586667</td>\n",
       "      <td>0.560</td>\n",
       "      <td>0.488263</td>\n",
       "      <td>0.462745</td>\n",
       "      <td>0.486275</td>\n",
       "      <td>0.501992</td>\n",
       "    </tr>\n",
       "    <tr>\n",
       "      <th>2</th>\n",
       "      <td>0.484581</td>\n",
       "      <td>0.530928</td>\n",
       "      <td>0.507463</td>\n",
       "      <td>0.600000</td>\n",
       "      <td>0.610329</td>\n",
       "      <td>0.514056</td>\n",
       "      <td>0.498039</td>\n",
       "      <td>0.488189</td>\n",
       "      <td>0.426160</td>\n",
       "      <td>0.542735</td>\n",
       "      <td>...</td>\n",
       "      <td>0.533333</td>\n",
       "      <td>0.549587</td>\n",
       "      <td>0.465021</td>\n",
       "      <td>0.540773</td>\n",
       "      <td>0.600000</td>\n",
       "      <td>0.576</td>\n",
       "      <td>0.516432</td>\n",
       "      <td>0.435294</td>\n",
       "      <td>0.466667</td>\n",
       "      <td>0.474104</td>\n",
       "    </tr>\n",
       "    <tr>\n",
       "      <th>3</th>\n",
       "      <td>0.599119</td>\n",
       "      <td>0.680412</td>\n",
       "      <td>0.656716</td>\n",
       "      <td>0.600000</td>\n",
       "      <td>0.568075</td>\n",
       "      <td>0.558233</td>\n",
       "      <td>0.525490</td>\n",
       "      <td>0.547244</td>\n",
       "      <td>0.464135</td>\n",
       "      <td>0.487179</td>\n",
       "      <td>...</td>\n",
       "      <td>0.486275</td>\n",
       "      <td>0.553719</td>\n",
       "      <td>0.563786</td>\n",
       "      <td>0.618026</td>\n",
       "      <td>0.613333</td>\n",
       "      <td>0.592</td>\n",
       "      <td>0.497653</td>\n",
       "      <td>0.631373</td>\n",
       "      <td>0.517647</td>\n",
       "      <td>0.509960</td>\n",
       "    </tr>\n",
       "    <tr>\n",
       "      <th>4</th>\n",
       "      <td>0.422907</td>\n",
       "      <td>0.520619</td>\n",
       "      <td>0.477612</td>\n",
       "      <td>0.546154</td>\n",
       "      <td>0.511737</td>\n",
       "      <td>0.281124</td>\n",
       "      <td>0.505882</td>\n",
       "      <td>0.503937</td>\n",
       "      <td>0.447257</td>\n",
       "      <td>0.542735</td>\n",
       "      <td>...</td>\n",
       "      <td>0.513725</td>\n",
       "      <td>0.595041</td>\n",
       "      <td>0.444444</td>\n",
       "      <td>0.549356</td>\n",
       "      <td>0.640000</td>\n",
       "      <td>0.600</td>\n",
       "      <td>0.483568</td>\n",
       "      <td>0.466667</td>\n",
       "      <td>0.494118</td>\n",
       "      <td>0.454183</td>\n",
       "    </tr>\n",
       "  </tbody>\n",
       "</table>\n",
       "<p>5 rows × 64 columns</p>\n",
       "</div>"
      ],
      "text/plain": [
       "         0         1         2         3         4         5         6   \\\n",
       "0  0.537445  0.551546  0.522388  0.592308  0.727700  0.614458  0.525490   \n",
       "1  0.466960  0.520619  0.432836  0.569231  0.619718  0.526104  0.482353   \n",
       "2  0.484581  0.530928  0.507463  0.600000  0.610329  0.514056  0.498039   \n",
       "3  0.599119  0.680412  0.656716  0.600000  0.568075  0.558233  0.525490   \n",
       "4  0.422907  0.520619  0.477612  0.546154  0.511737  0.281124  0.505882   \n",
       "\n",
       "         7         8         9     ...           54        55        56  \\\n",
       "0  0.539370  0.468354  0.529915    ...     0.494118  0.438017  0.576132   \n",
       "1  0.492126  0.421941  0.538462    ...     0.509804  0.541322  0.469136   \n",
       "2  0.488189  0.426160  0.542735    ...     0.533333  0.549587  0.465021   \n",
       "3  0.547244  0.464135  0.487179    ...     0.486275  0.553719  0.563786   \n",
       "4  0.503937  0.447257  0.542735    ...     0.513725  0.595041  0.444444   \n",
       "\n",
       "         57        58     59        60        61        62        63  \n",
       "0  0.566524  0.653333  0.616  0.502347  0.650980  0.549020  0.545817  \n",
       "1  0.532189  0.586667  0.560  0.488263  0.462745  0.486275  0.501992  \n",
       "2  0.540773  0.600000  0.576  0.516432  0.435294  0.466667  0.474104  \n",
       "3  0.618026  0.613333  0.592  0.497653  0.631373  0.517647  0.509960  \n",
       "4  0.549356  0.640000  0.600  0.483568  0.466667  0.494118  0.454183  \n",
       "\n",
       "[5 rows x 64 columns]"
      ]
     },
     "execution_count": 24,
     "metadata": {},
     "output_type": "execute_result"
    }
   ],
   "source": [
    "X = rescaled_X\n",
    "X.head()"
   ]
  },
  {
   "cell_type": "markdown",
   "metadata": {},
   "source": [
    "We shall save the cleaned data here as we may be requiring it later."
   ]
  },
  {
   "cell_type": "code",
   "execution_count": 25,
   "metadata": {},
   "outputs": [],
   "source": [
    "# Train test split to get train and test sets\n",
    "from sklearn.model_selection import train_test_split\n",
    "\n",
    "# First time\n",
    "X_train, X_test, y_train, y_test = train_test_split(X, y, test_size=0.2, random_state=0)\n",
    "SaveX_train = X_train\n",
    "SaveX_test = X_test\n",
    "Savey_train = y_train\n",
    "Savey_test = y_test"
   ]
  },
  {
   "cell_type": "markdown",
   "metadata": {},
   "source": [
    "# 3. Evaluating and Comparing Models"
   ]
  },
  {
   "cell_type": "markdown",
   "metadata": {},
   "source": [
    "Now, we shall proceed to take several different classifiers, and use these to model the data. Then we shall compare how well they perform on the data. \n",
    "\n",
    "We shall be checking with the following models:\n",
    "- Logistic Regression\n",
    "- Decision Trees\n",
    "- Random Forests\n",
    "- AdaBoost\n",
    "\n",
    "For the above models, we can use K-fold cross validation to make sure we do not waste any of the training set on cross-validation, which will help our models learn better as they wil have a larger training set available to them.\n",
    "\n",
    "We shall also experiment with a Deep Learning Multi Layer Perceptron(MLP) and see how well this performs. \n",
    "\n",
    "To compare the models, we shall use 2 metrics:\n",
    "- Accuracy\n",
    "- F1 Score"
   ]
  },
  {
   "cell_type": "markdown",
   "metadata": {},
   "source": [
    "## 3.1 Model Comparison"
   ]
  },
  {
   "cell_type": "markdown",
   "metadata": {},
   "source": [
    "We are not sure which models will perform well. So, we shall try and compare a number of models to see which one performs the best."
   ]
  },
  {
   "cell_type": "code",
   "execution_count": 26,
   "metadata": {},
   "outputs": [],
   "source": [
    "from sklearn import model_selection\n",
    "from sklearn.metrics import accuracy_score\n",
    "from sklearn.metrics import classification_report\n",
    "from sklearn.metrics import confusion_matrix\n",
    "from sklearn.metrics import f1_score\n",
    "from sklearn.linear_model import LogisticRegression\n",
    "from sklearn.tree import DecisionTreeClassifier\n",
    "from sklearn.ensemble import RandomForestClassifier\n",
    "from sklearn.ensemble import AdaBoostClassifier\n",
    "from sklearn import metrics"
   ]
  },
  {
   "cell_type": "code",
   "execution_count": 27,
   "metadata": {},
   "outputs": [
    {
     "name": "stderr",
     "output_type": "stream",
     "text": [
      "c:\\users\\athithya\\anaconda3\\envs\\tf_gpu\\lib\\site-packages\\sklearn\\linear_model\\logistic.py:433: FutureWarning: Default solver will be changed to 'lbfgs' in 0.22. Specify a solver to silence this warning.\n",
      "  FutureWarning)\n",
      "c:\\users\\athithya\\anaconda3\\envs\\tf_gpu\\lib\\site-packages\\sklearn\\utils\\validation.py:761: DataConversionWarning: A column-vector y was passed when a 1d array was expected. Please change the shape of y to (n_samples, ), for example using ravel().\n",
      "  y = column_or_1d(y, warn=True)\n",
      "c:\\users\\athithya\\anaconda3\\envs\\tf_gpu\\lib\\site-packages\\sklearn\\linear_model\\logistic.py:460: FutureWarning: Default multi_class will be changed to 'auto' in 0.22. Specify the multi_class option to silence this warning.\n",
      "  \"this warning.\", FutureWarning)\n",
      "c:\\users\\athithya\\anaconda3\\envs\\tf_gpu\\lib\\site-packages\\sklearn\\linear_model\\logistic.py:433: FutureWarning: Default solver will be changed to 'lbfgs' in 0.22. Specify a solver to silence this warning.\n",
      "  FutureWarning)\n",
      "c:\\users\\athithya\\anaconda3\\envs\\tf_gpu\\lib\\site-packages\\sklearn\\utils\\validation.py:761: DataConversionWarning: A column-vector y was passed when a 1d array was expected. Please change the shape of y to (n_samples, ), for example using ravel().\n",
      "  y = column_or_1d(y, warn=True)\n",
      "c:\\users\\athithya\\anaconda3\\envs\\tf_gpu\\lib\\site-packages\\sklearn\\linear_model\\logistic.py:460: FutureWarning: Default multi_class will be changed to 'auto' in 0.22. Specify the multi_class option to silence this warning.\n",
      "  \"this warning.\", FutureWarning)\n",
      "c:\\users\\athithya\\anaconda3\\envs\\tf_gpu\\lib\\site-packages\\sklearn\\linear_model\\logistic.py:433: FutureWarning: Default solver will be changed to 'lbfgs' in 0.22. Specify a solver to silence this warning.\n",
      "  FutureWarning)\n",
      "c:\\users\\athithya\\anaconda3\\envs\\tf_gpu\\lib\\site-packages\\sklearn\\utils\\validation.py:761: DataConversionWarning: A column-vector y was passed when a 1d array was expected. Please change the shape of y to (n_samples, ), for example using ravel().\n",
      "  y = column_or_1d(y, warn=True)\n",
      "c:\\users\\athithya\\anaconda3\\envs\\tf_gpu\\lib\\site-packages\\sklearn\\linear_model\\logistic.py:460: FutureWarning: Default multi_class will be changed to 'auto' in 0.22. Specify the multi_class option to silence this warning.\n",
      "  \"this warning.\", FutureWarning)\n",
      "c:\\users\\athithya\\anaconda3\\envs\\tf_gpu\\lib\\site-packages\\sklearn\\linear_model\\logistic.py:433: FutureWarning: Default solver will be changed to 'lbfgs' in 0.22. Specify a solver to silence this warning.\n",
      "  FutureWarning)\n",
      "c:\\users\\athithya\\anaconda3\\envs\\tf_gpu\\lib\\site-packages\\sklearn\\utils\\validation.py:761: DataConversionWarning: A column-vector y was passed when a 1d array was expected. Please change the shape of y to (n_samples, ), for example using ravel().\n",
      "  y = column_or_1d(y, warn=True)\n",
      "c:\\users\\athithya\\anaconda3\\envs\\tf_gpu\\lib\\site-packages\\sklearn\\linear_model\\logistic.py:460: FutureWarning: Default multi_class will be changed to 'auto' in 0.22. Specify the multi_class option to silence this warning.\n",
      "  \"this warning.\", FutureWarning)\n"
     ]
    },
    {
     "name": "stdout",
     "output_type": "stream",
     "text": [
      "1. Logistic Regression\n",
      "The accuracy and F1 score are:\n",
      "\n",
      "0.3395396237276701\n",
      "0.33945200953222576\n",
      "2. Decision Tree\n",
      "The accuracy and F1 score are:\n",
      "\n",
      "0.7688922204540788\n",
      "0.7696804477111725\n"
     ]
    },
    {
     "name": "stderr",
     "output_type": "stream",
     "text": [
      "c:\\users\\athithya\\anaconda3\\envs\\tf_gpu\\lib\\site-packages\\sklearn\\model_selection\\_validation.py:528: DataConversionWarning: A column-vector y was passed when a 1d array was expected. Please change the shape of y to (n_samples,), for example using ravel().\n",
      "  estimator.fit(X_train, y_train, **fit_params)\n",
      "c:\\users\\athithya\\anaconda3\\envs\\tf_gpu\\lib\\site-packages\\sklearn\\model_selection\\_validation.py:528: DataConversionWarning: A column-vector y was passed when a 1d array was expected. Please change the shape of y to (n_samples,), for example using ravel().\n",
      "  estimator.fit(X_train, y_train, **fit_params)\n",
      "c:\\users\\athithya\\anaconda3\\envs\\tf_gpu\\lib\\site-packages\\sklearn\\model_selection\\_validation.py:528: DataConversionWarning: A column-vector y was passed when a 1d array was expected. Please change the shape of y to (n_samples,), for example using ravel().\n",
      "  estimator.fit(X_train, y_train, **fit_params)\n",
      "c:\\users\\athithya\\anaconda3\\envs\\tf_gpu\\lib\\site-packages\\sklearn\\model_selection\\_validation.py:528: DataConversionWarning: A column-vector y was passed when a 1d array was expected. Please change the shape of y to (n_samples,), for example using ravel().\n",
      "  estimator.fit(X_train, y_train, **fit_params)\n"
     ]
    },
    {
     "name": "stdout",
     "output_type": "stream",
     "text": [
      "3. Random Forest\n",
      "The accuracy and F1 score are:\n",
      "\n",
      "0.9146866108357044\n",
      "0.9144864141906249\n"
     ]
    },
    {
     "name": "stderr",
     "output_type": "stream",
     "text": [
      "c:\\users\\athithya\\anaconda3\\envs\\tf_gpu\\lib\\site-packages\\sklearn\\utils\\validation.py:761: DataConversionWarning: A column-vector y was passed when a 1d array was expected. Please change the shape of y to (n_samples, ), for example using ravel().\n",
      "  y = column_or_1d(y, warn=True)\n",
      "c:\\users\\athithya\\anaconda3\\envs\\tf_gpu\\lib\\site-packages\\sklearn\\utils\\validation.py:761: DataConversionWarning: A column-vector y was passed when a 1d array was expected. Please change the shape of y to (n_samples, ), for example using ravel().\n",
      "  y = column_or_1d(y, warn=True)\n",
      "c:\\users\\athithya\\anaconda3\\envs\\tf_gpu\\lib\\site-packages\\sklearn\\utils\\validation.py:761: DataConversionWarning: A column-vector y was passed when a 1d array was expected. Please change the shape of y to (n_samples, ), for example using ravel().\n",
      "  y = column_or_1d(y, warn=True)\n",
      "c:\\users\\athithya\\anaconda3\\envs\\tf_gpu\\lib\\site-packages\\sklearn\\utils\\validation.py:761: DataConversionWarning: A column-vector y was passed when a 1d array was expected. Please change the shape of y to (n_samples, ), for example using ravel().\n",
      "  y = column_or_1d(y, warn=True)\n"
     ]
    },
    {
     "name": "stdout",
     "output_type": "stream",
     "text": [
      "4. AdaBoost\n",
      "The accuracy and F1 score are:\n",
      "\n",
      "0.9156494291015225\n",
      "0.9154543043569198\n"
     ]
    }
   ],
   "source": [
    "scoring = ['accuracy', 'f1_macro']\n",
    "models = []\n",
    "models.append(('1. Logistic Regression', LogisticRegression()))\n",
    "models.append(('2. Decision Tree', DecisionTreeClassifier()))\n",
    "models.append(('3. Random Forest', RandomForestClassifier(n_estimators=100)))\n",
    "models.append(('4. AdaBoost', AdaBoostClassifier(RandomForestClassifier(n_estimators=100))))\n",
    "\n",
    "op = \"\"\n",
    "for name, model in models:\n",
    "    kfold = model_selection.KFold(n_splits = 4, random_state = 47, shuffle=True)\n",
    "    cv_results = model_selection.cross_validate(model, X_train, y_train, cv = kfold, scoring=scoring, return_train_score=True )\n",
    "    print(name+\"\\nThe accuracy and F1 score are:\\n\")\n",
    "    op+=name+\"\\nThe accuracy and F1 score are:\\n\"\n",
    "    for met in scoring:\n",
    "        key = 'test_'+met\n",
    "        print(np.mean(cv_results[key]))\n",
    "        op=op+str(np.mean(cv_results[key]))+\"\\n\""
   ]
  },
  {
   "cell_type": "code",
   "execution_count": 28,
   "metadata": {},
   "outputs": [
    {
     "name": "stdout",
     "output_type": "stream",
     "text": [
      "1. Logistic Regression\n",
      "The accuracy and F1 score are:\n",
      "0.3395396237276701\n",
      "0.33945200953222576\n",
      "2. Decision Tree\n",
      "The accuracy and F1 score are:\n",
      "0.7688922204540788\n",
      "0.7696804477111725\n",
      "3. Random Forest\n",
      "The accuracy and F1 score are:\n",
      "0.9146866108357044\n",
      "0.9144864141906249\n",
      "4. AdaBoost\n",
      "The accuracy and F1 score are:\n",
      "0.9156494291015225\n",
      "0.9154543043569198\n",
      "\n"
     ]
    }
   ],
   "source": [
    "print(op)"
   ]
  },
  {
   "cell_type": "markdown",
   "metadata": {},
   "source": [
    "## 3.2 MLP Classifier"
   ]
  },
  {
   "cell_type": "markdown",
   "metadata": {},
   "source": [
    "Below, we shall create a Multi Layer Perceptron (MLP) with 3 hidden layers that make use of the ReLu activation function, and with multiple dropout layers.\n",
    "\n",
    "We will one-hot encode the target variable so we can create an output layer for the MLP with 4 nodes that use the softmax activation function.\n",
    "\n",
    "In addition, we shall be splitting the data twice, to get the training, cross-validation and testing sets."
   ]
  },
  {
   "cell_type": "code",
   "execution_count": 29,
   "metadata": {},
   "outputs": [
    {
     "name": "stderr",
     "output_type": "stream",
     "text": [
      "Using TensorFlow backend.\n"
     ]
    }
   ],
   "source": [
    "from keras.models import Sequential\n",
    "from keras.layers import Dense, Dropout, Activation"
   ]
  },
  {
   "cell_type": "code",
   "execution_count": 30,
   "metadata": {},
   "outputs": [],
   "source": [
    "X = data.drop([64],axis=1)\n",
    "y = data[[64]]"
   ]
  },
  {
   "cell_type": "code",
   "execution_count": 31,
   "metadata": {},
   "outputs": [
    {
     "data": {
      "text/plain": [
       "[array([0, 1, 2, 3], dtype=int64)]"
      ]
     },
     "execution_count": 31,
     "metadata": {},
     "output_type": "execute_result"
    }
   ],
   "source": [
    "from sklearn.preprocessing import OneHotEncoder\n",
    "enc = OneHotEncoder(handle_unknown='ignore')\n",
    "enc.fit(y)\n",
    "enc.categories_"
   ]
  },
  {
   "cell_type": "code",
   "execution_count": 32,
   "metadata": {},
   "outputs": [
    {
     "data": {
      "text/html": [
       "<div>\n",
       "<style scoped>\n",
       "    .dataframe tbody tr th:only-of-type {\n",
       "        vertical-align: middle;\n",
       "    }\n",
       "\n",
       "    .dataframe tbody tr th {\n",
       "        vertical-align: top;\n",
       "    }\n",
       "\n",
       "    .dataframe thead th {\n",
       "        text-align: right;\n",
       "    }\n",
       "</style>\n",
       "<table border=\"1\" class=\"dataframe\">\n",
       "  <thead>\n",
       "    <tr style=\"text-align: right;\">\n",
       "      <th></th>\n",
       "      <th>0</th>\n",
       "      <th>1</th>\n",
       "      <th>2</th>\n",
       "      <th>3</th>\n",
       "    </tr>\n",
       "  </thead>\n",
       "  <tbody>\n",
       "    <tr>\n",
       "      <th>0</th>\n",
       "      <td>0.0</td>\n",
       "      <td>0.0</td>\n",
       "      <td>0.0</td>\n",
       "      <td>1.0</td>\n",
       "    </tr>\n",
       "    <tr>\n",
       "      <th>1</th>\n",
       "      <td>0.0</td>\n",
       "      <td>1.0</td>\n",
       "      <td>0.0</td>\n",
       "      <td>0.0</td>\n",
       "    </tr>\n",
       "    <tr>\n",
       "      <th>2</th>\n",
       "      <td>0.0</td>\n",
       "      <td>0.0</td>\n",
       "      <td>0.0</td>\n",
       "      <td>1.0</td>\n",
       "    </tr>\n",
       "    <tr>\n",
       "      <th>3</th>\n",
       "      <td>0.0</td>\n",
       "      <td>0.0</td>\n",
       "      <td>1.0</td>\n",
       "      <td>0.0</td>\n",
       "    </tr>\n",
       "    <tr>\n",
       "      <th>4</th>\n",
       "      <td>0.0</td>\n",
       "      <td>0.0</td>\n",
       "      <td>0.0</td>\n",
       "      <td>1.0</td>\n",
       "    </tr>\n",
       "  </tbody>\n",
       "</table>\n",
       "</div>"
      ],
      "text/plain": [
       "     0    1    2    3\n",
       "0  0.0  0.0  0.0  1.0\n",
       "1  0.0  1.0  0.0  0.0\n",
       "2  0.0  0.0  0.0  1.0\n",
       "3  0.0  0.0  1.0  0.0\n",
       "4  0.0  0.0  0.0  1.0"
      ]
     },
     "execution_count": 32,
     "metadata": {},
     "output_type": "execute_result"
    }
   ],
   "source": [
    "y2=enc.transform(y)\n",
    "y2 = pd.DataFrame(y2.todense())\n",
    "y2.head()"
   ]
  },
  {
   "cell_type": "code",
   "execution_count": 33,
   "metadata": {},
   "outputs": [],
   "source": [
    "# Train test split twice to get train, cross validation and test sets\n",
    "from sklearn.model_selection import train_test_split\n",
    "\n",
    "# First time\n",
    "X_train, X_test, y_train, y_test = train_test_split(X, y2, test_size=0.2, random_state=0)\n",
    "\n",
    "# Second time\n",
    "X_train, X_crossval, y_train, y_crossval = train_test_split(X_train, y_train, test_size=0.25, random_state=0)"
   ]
  },
  {
   "cell_type": "code",
   "execution_count": 34,
   "metadata": {},
   "outputs": [
    {
     "name": "stdout",
     "output_type": "stream",
     "text": [
      "_________________________________________________________________\n",
      "Layer (type)                 Output Shape              Param #   \n",
      "=================================================================\n",
      "dense_1 (Dense)              (None, 32)                2080      \n",
      "_________________________________________________________________\n",
      "dropout_1 (Dropout)          (None, 32)                0         \n",
      "_________________________________________________________________\n",
      "dense_2 (Dense)              (None, 16)                528       \n",
      "_________________________________________________________________\n",
      "dropout_2 (Dropout)          (None, 16)                0         \n",
      "_________________________________________________________________\n",
      "dense_3 (Dense)              (None, 8)                 136       \n",
      "_________________________________________________________________\n",
      "dropout_3 (Dropout)          (None, 8)                 0         \n",
      "_________________________________________________________________\n",
      "dense_4 (Dense)              (None, 4)                 36        \n",
      "=================================================================\n",
      "Total params: 2,780\n",
      "Trainable params: 2,780\n",
      "Non-trainable params: 0\n",
      "_________________________________________________________________\n"
     ]
    }
   ],
   "source": [
    "# Build the model architecture\n",
    "model = Sequential()\n",
    "model.add(Dense(32, activation=\"relu\", input_shape=(64,)))\n",
    "model.add(Dropout(0.25))\n",
    "model.add(Dense(16, activation=\"relu\"))\n",
    "model.add(Dropout(.2))\n",
    "model.add(Dense(8, activation=\"relu\"))\n",
    "model.add(Dropout(.1))\n",
    "model.add(Dense(4, activation=\"softmax\"))\n",
    "\n",
    "# Compile the model using a loss function and an optimizer.\n",
    "model.compile(loss = \"categorical_crossentropy\", optimizer='adam', metrics=['accuracy'])\n",
    "model.summary()"
   ]
  },
  {
   "cell_type": "code",
   "execution_count": 35,
   "metadata": {},
   "outputs": [],
   "source": [
    "model.compile(optimizer='rmsprop', loss='categorical_crossentropy', metrics=['accuracy'])"
   ]
  },
  {
   "cell_type": "code",
   "execution_count": 36,
   "metadata": {},
   "outputs": [
    {
     "name": "stdout",
     "output_type": "stream",
     "text": [
      "Train on 7006 samples, validate on 2336 samples\n",
      "Epoch 1/50\n",
      "7006/7006 [==============================] - 1s 134us/step - loss: 3.8467 - acc: 0.2726 - val_loss: 1.3949 - val_acc: 0.2676\n",
      "\n",
      "Epoch 00001: val_loss improved from inf to 1.39492, saving model to weights.best.from_scratch.hdf5\n",
      "Epoch 2/50\n",
      "7006/7006 [==============================] - 1s 80us/step - loss: 1.4596 - acc: 0.2900 - val_loss: 1.3650 - val_acc: 0.2740\n",
      "\n",
      "Epoch 00002: val_loss improved from 1.39492 to 1.36498, saving model to weights.best.from_scratch.hdf5\n",
      "Epoch 3/50\n",
      "7006/7006 [==============================] - 1s 192us/step - loss: 1.3600 - acc: 0.3080 - val_loss: 1.3091 - val_acc: 0.3211\n",
      "\n",
      "Epoch 00003: val_loss improved from 1.36498 to 1.30906, saving model to weights.best.from_scratch.hdf5\n",
      "Epoch 4/50\n",
      "7006/7006 [==============================] - 1s 107us/step - loss: 1.3064 - acc: 0.3354 - val_loss: 1.2534 - val_acc: 0.3639\n",
      "\n",
      "Epoch 00004: val_loss improved from 1.30906 to 1.25337, saving model to weights.best.from_scratch.hdf5\n",
      "Epoch 5/50\n",
      "7006/7006 [==============================] - 1s 94us/step - loss: 1.2530 - acc: 0.3707 - val_loss: 1.1849 - val_acc: 0.4161\n",
      "\n",
      "Epoch 00005: val_loss improved from 1.25337 to 1.18487, saving model to weights.best.from_scratch.hdf5\n",
      "Epoch 6/50\n",
      "7006/7006 [==============================] - 1s 89us/step - loss: 1.1891 - acc: 0.4159 - val_loss: 1.1040 - val_acc: 0.4662\n",
      "\n",
      "Epoch 00006: val_loss improved from 1.18487 to 1.10404, saving model to weights.best.from_scratch.hdf5\n",
      "Epoch 7/50\n",
      "7006/7006 [==============================] - 1s 85us/step - loss: 1.1053 - acc: 0.4556 - val_loss: 1.0071 - val_acc: 0.5073\n",
      "\n",
      "Epoch 00007: val_loss improved from 1.10404 to 1.00707, saving model to weights.best.from_scratch.hdf5\n",
      "Epoch 8/50\n",
      "7006/7006 [==============================] - 1s 83us/step - loss: 1.0539 - acc: 0.4820 - val_loss: 0.9591 - val_acc: 0.5265\n",
      "\n",
      "Epoch 00008: val_loss improved from 1.00707 to 0.95912, saving model to weights.best.from_scratch.hdf5\n",
      "Epoch 9/50\n",
      "7006/7006 [==============================] - 1s 85us/step - loss: 0.9921 - acc: 0.5248 - val_loss: 0.9216 - val_acc: 0.5544\n",
      "\n",
      "Epoch 00009: val_loss improved from 0.95912 to 0.92161, saving model to weights.best.from_scratch.hdf5\n",
      "Epoch 10/50\n",
      "7006/7006 [==============================] - 1s 89us/step - loss: 0.9605 - acc: 0.5465 - val_loss: 0.8701 - val_acc: 0.5916\n",
      "\n",
      "Epoch 00010: val_loss improved from 0.92161 to 0.87013, saving model to weights.best.from_scratch.hdf5\n",
      "Epoch 11/50\n",
      "7006/7006 [==============================] - 1s 83us/step - loss: 0.9172 - acc: 0.5786 - val_loss: 0.8291 - val_acc: 0.6340\n",
      "\n",
      "Epoch 00011: val_loss improved from 0.87013 to 0.82914, saving model to weights.best.from_scratch.hdf5\n",
      "Epoch 12/50\n",
      "7006/7006 [==============================] - 1s 87us/step - loss: 0.8768 - acc: 0.6065 - val_loss: 0.7799 - val_acc: 0.6605\n",
      "\n",
      "Epoch 00012: val_loss improved from 0.82914 to 0.77993, saving model to weights.best.from_scratch.hdf5\n",
      "Epoch 13/50\n",
      "7006/7006 [==============================] - 1s 85us/step - loss: 0.8389 - acc: 0.6255 - val_loss: 0.7325 - val_acc: 0.6854\n",
      "\n",
      "Epoch 00013: val_loss improved from 0.77993 to 0.73250, saving model to weights.best.from_scratch.hdf5\n",
      "Epoch 14/50\n",
      "7006/7006 [==============================] - 1s 85us/step - loss: 0.7907 - acc: 0.6506 - val_loss: 0.7016 - val_acc: 0.7076\n",
      "\n",
      "Epoch 00014: val_loss improved from 0.73250 to 0.70158, saving model to weights.best.from_scratch.hdf5\n",
      "Epoch 15/50\n",
      "7006/7006 [==============================] - 1s 87us/step - loss: 0.7769 - acc: 0.6647 - val_loss: 0.6485 - val_acc: 0.7470\n",
      "\n",
      "Epoch 00015: val_loss improved from 0.70158 to 0.64854, saving model to weights.best.from_scratch.hdf5\n",
      "Epoch 16/50\n",
      "7006/7006 [==============================] - 1s 89us/step - loss: 0.7454 - acc: 0.6868 - val_loss: 0.6176 - val_acc: 0.7650\n",
      "\n",
      "Epoch 00016: val_loss improved from 0.64854 to 0.61760, saving model to weights.best.from_scratch.hdf5\n",
      "Epoch 17/50\n",
      "7006/7006 [==============================] - 1s 85us/step - loss: 0.7072 - acc: 0.7085 - val_loss: 0.5879 - val_acc: 0.7834\n",
      "\n",
      "Epoch 00017: val_loss improved from 0.61760 to 0.58792, saving model to weights.best.from_scratch.hdf5\n",
      "Epoch 18/50\n",
      "7006/7006 [==============================] - 1s 87us/step - loss: 0.6795 - acc: 0.7218 - val_loss: 0.5352 - val_acc: 0.8099\n",
      "\n",
      "Epoch 00018: val_loss improved from 0.58792 to 0.53520, saving model to weights.best.from_scratch.hdf5\n",
      "Epoch 19/50\n",
      "7006/7006 [==============================] - 1s 85us/step - loss: 0.6543 - acc: 0.7409 - val_loss: 0.5053 - val_acc: 0.8215\n",
      "\n",
      "Epoch 00019: val_loss improved from 0.53520 to 0.50527, saving model to weights.best.from_scratch.hdf5\n",
      "Epoch 20/50\n",
      "7006/7006 [==============================] - 1s 89us/step - loss: 0.6181 - acc: 0.7552 - val_loss: 0.5021 - val_acc: 0.8215\n",
      "\n",
      "Epoch 00020: val_loss improved from 0.50527 to 0.50209, saving model to weights.best.from_scratch.hdf5\n",
      "Epoch 21/50\n",
      "7006/7006 [==============================] - 1s 85us/step - loss: 0.6071 - acc: 0.7598 - val_loss: 0.4703 - val_acc: 0.8322\n",
      "\n",
      "Epoch 00021: val_loss improved from 0.50209 to 0.47030, saving model to weights.best.from_scratch.hdf5\n",
      "Epoch 22/50\n",
      "7006/7006 [==============================] - 1s 89us/step - loss: 0.5943 - acc: 0.7715 - val_loss: 0.4492 - val_acc: 0.8472\n",
      "\n",
      "Epoch 00022: val_loss improved from 0.47030 to 0.44922, saving model to weights.best.from_scratch.hdf5\n",
      "Epoch 23/50\n",
      "7006/7006 [==============================] - 1s 85us/step - loss: 0.5939 - acc: 0.7683 - val_loss: 0.4393 - val_acc: 0.8455\n",
      "\n",
      "Epoch 00023: val_loss improved from 0.44922 to 0.43926, saving model to weights.best.from_scratch.hdf5\n",
      "Epoch 24/50\n",
      "7006/7006 [==============================] - 1s 78us/step - loss: 0.5655 - acc: 0.7810 - val_loss: 0.4375 - val_acc: 0.8476\n",
      "\n",
      "Epoch 00024: val_loss improved from 0.43926 to 0.43752, saving model to weights.best.from_scratch.hdf5\n",
      "Epoch 25/50\n",
      "7006/7006 [==============================] - 1s 78us/step - loss: 0.5423 - acc: 0.7888 - val_loss: 0.4343 - val_acc: 0.8480\n",
      "\n",
      "Epoch 00025: val_loss improved from 0.43752 to 0.43430, saving model to weights.best.from_scratch.hdf5\n",
      "Epoch 26/50\n",
      "7006/7006 [==============================] - 1s 80us/step - loss: 0.5413 - acc: 0.7959 - val_loss: 0.4169 - val_acc: 0.8467\n",
      "\n",
      "Epoch 00026: val_loss improved from 0.43430 to 0.41690, saving model to weights.best.from_scratch.hdf5\n",
      "Epoch 27/50\n",
      "7006/7006 [==============================] - 1s 78us/step - loss: 0.5466 - acc: 0.7967 - val_loss: 0.4083 - val_acc: 0.8553\n",
      "\n",
      "Epoch 00027: val_loss improved from 0.41690 to 0.40832, saving model to weights.best.from_scratch.hdf5\n",
      "Epoch 28/50\n",
      "7006/7006 [==============================] - 1s 78us/step - loss: 0.5286 - acc: 0.7990 - val_loss: 0.3987 - val_acc: 0.8669\n",
      "\n",
      "Epoch 00028: val_loss improved from 0.40832 to 0.39866, saving model to weights.best.from_scratch.hdf5\n",
      "Epoch 29/50\n",
      "7006/7006 [==============================] - 1s 94us/step - loss: 0.5227 - acc: 0.8016 - val_loss: 0.3952 - val_acc: 0.8626\n",
      "\n",
      "Epoch 00029: val_loss improved from 0.39866 to 0.39519, saving model to weights.best.from_scratch.hdf5\n",
      "Epoch 30/50\n",
      "7006/7006 [==============================] - 1s 80us/step - loss: 0.5077 - acc: 0.8147 - val_loss: 0.3796 - val_acc: 0.8682\n",
      "\n",
      "Epoch 00030: val_loss improved from 0.39519 to 0.37955, saving model to weights.best.from_scratch.hdf5\n",
      "Epoch 31/50\n",
      "7006/7006 [==============================] - 1s 78us/step - loss: 0.5081 - acc: 0.8116 - val_loss: 0.3705 - val_acc: 0.8720\n",
      "\n",
      "Epoch 00031: val_loss improved from 0.37955 to 0.37054, saving model to weights.best.from_scratch.hdf5\n",
      "Epoch 32/50\n",
      "7006/7006 [==============================] - 1s 78us/step - loss: 0.4863 - acc: 0.8212 - val_loss: 0.3588 - val_acc: 0.8797\n",
      "\n",
      "Epoch 00032: val_loss improved from 0.37054 to 0.35884, saving model to weights.best.from_scratch.hdf5\n",
      "Epoch 33/50\n",
      "7006/7006 [==============================] - 1s 78us/step - loss: 0.4883 - acc: 0.8217 - val_loss: 0.3550 - val_acc: 0.8827\n",
      "\n",
      "Epoch 00033: val_loss improved from 0.35884 to 0.35497, saving model to weights.best.from_scratch.hdf5\n",
      "Epoch 34/50\n",
      "7006/7006 [==============================] - 1s 80us/step - loss: 0.4870 - acc: 0.8166 - val_loss: 0.3564 - val_acc: 0.8763\n",
      "\n",
      "Epoch 00034: val_loss did not improve from 0.35497\n",
      "Epoch 35/50\n",
      "7006/7006 [==============================] - 1s 76us/step - loss: 0.4780 - acc: 0.8227 - val_loss: 0.3549 - val_acc: 0.8776\n",
      "\n",
      "Epoch 00035: val_loss improved from 0.35497 to 0.35491, saving model to weights.best.from_scratch.hdf5\n",
      "Epoch 36/50\n",
      "7006/7006 [==============================] - 1s 78us/step - loss: 0.4708 - acc: 0.8294 - val_loss: 0.3484 - val_acc: 0.8801\n",
      "\n",
      "Epoch 00036: val_loss improved from 0.35491 to 0.34840, saving model to weights.best.from_scratch.hdf5\n",
      "Epoch 37/50\n",
      "7006/7006 [==============================] - 1s 76us/step - loss: 0.4568 - acc: 0.8356 - val_loss: 0.3315 - val_acc: 0.8870\n",
      "\n",
      "Epoch 00037: val_loss improved from 0.34840 to 0.33145, saving model to weights.best.from_scratch.hdf5\n",
      "Epoch 38/50\n",
      "7006/7006 [==============================] - 1s 80us/step - loss: 0.4709 - acc: 0.8301 - val_loss: 0.3412 - val_acc: 0.8831\n",
      "\n",
      "Epoch 00038: val_loss did not improve from 0.33145\n",
      "Epoch 39/50\n",
      "7006/7006 [==============================] - 1s 78us/step - loss: 0.4437 - acc: 0.8446 - val_loss: 0.3394 - val_acc: 0.8801\n",
      "\n",
      "Epoch 00039: val_loss did not improve from 0.33145\n",
      "Epoch 40/50\n",
      "7006/7006 [==============================] - 1s 78us/step - loss: 0.4357 - acc: 0.8450 - val_loss: 0.3762 - val_acc: 0.8673\n",
      "\n",
      "Epoch 00040: val_loss did not improve from 0.33145\n",
      "Epoch 41/50\n",
      "7006/7006 [==============================] - 1s 109us/step - loss: 0.4412 - acc: 0.8426 - val_loss: 0.3311 - val_acc: 0.8878\n",
      "\n",
      "Epoch 00041: val_loss improved from 0.33145 to 0.33105, saving model to weights.best.from_scratch.hdf5\n",
      "Epoch 42/50\n",
      "7006/7006 [==============================] - 1s 103us/step - loss: 0.4325 - acc: 0.8491 - val_loss: 0.3608 - val_acc: 0.8673\n",
      "\n",
      "Epoch 00042: val_loss did not improve from 0.33105\n",
      "Epoch 43/50\n",
      "7006/7006 [==============================] - 1s 96us/step - loss: 0.4281 - acc: 0.8487 - val_loss: 0.3397 - val_acc: 0.8861\n",
      "\n",
      "Epoch 00043: val_loss did not improve from 0.33105\n",
      "Epoch 44/50\n",
      "7006/7006 [==============================] - 1s 80us/step - loss: 0.4379 - acc: 0.8477 - val_loss: 0.3371 - val_acc: 0.8848\n",
      "\n",
      "Epoch 00044: val_loss did not improve from 0.33105\n",
      "Epoch 45/50\n",
      "7006/7006 [==============================] - 1s 80us/step - loss: 0.4056 - acc: 0.8590 - val_loss: 0.3279 - val_acc: 0.8874\n",
      "\n",
      "Epoch 00045: val_loss improved from 0.33105 to 0.32789, saving model to weights.best.from_scratch.hdf5\n",
      "Epoch 46/50\n",
      "7006/7006 [==============================] - 1s 85us/step - loss: 0.4107 - acc: 0.8530 - val_loss: 0.3363 - val_acc: 0.8823\n",
      "\n",
      "Epoch 00046: val_loss did not improve from 0.32789\n",
      "Epoch 47/50\n",
      "7006/7006 [==============================] - 1s 80us/step - loss: 0.4059 - acc: 0.8611 - val_loss: 0.3095 - val_acc: 0.8930\n",
      "\n",
      "Epoch 00047: val_loss improved from 0.32789 to 0.30955, saving model to weights.best.from_scratch.hdf5\n",
      "Epoch 48/50\n",
      "7006/7006 [==============================] - 1s 83us/step - loss: 0.3971 - acc: 0.8611 - val_loss: 0.3064 - val_acc: 0.9003\n",
      "\n",
      "Epoch 00048: val_loss improved from 0.30955 to 0.30643, saving model to weights.best.from_scratch.hdf5\n",
      "Epoch 49/50\n",
      "7006/7006 [==============================] - 1s 80us/step - loss: 0.4142 - acc: 0.8568 - val_loss: 0.3018 - val_acc: 0.8998\n",
      "\n",
      "Epoch 00049: val_loss improved from 0.30643 to 0.30182, saving model to weights.best.from_scratch.hdf5\n",
      "Epoch 50/50\n",
      "7006/7006 [==============================] - 1s 89us/step - loss: 0.4141 - acc: 0.8574 - val_loss: 0.3395 - val_acc: 0.8789\n",
      "\n",
      "Epoch 00050: val_loss did not improve from 0.30182\n"
     ]
    },
    {
     "data": {
      "text/plain": [
       "<keras.callbacks.History at 0x807eef3278>"
      ]
     },
     "execution_count": 36,
     "metadata": {},
     "output_type": "execute_result"
    }
   ],
   "source": [
    "from keras.callbacks import ModelCheckpoint  \n",
    "epochs = 50\n",
    "checkpointer = ModelCheckpoint(filepath='weights.best.from_scratch.hdf5', \n",
    "                               verbose=1, save_best_only=True)\n",
    "\n",
    "model.fit(X_train, y_train, \n",
    "          validation_data=(X_crossval, y_crossval),\n",
    "          epochs=epochs, batch_size=20, callbacks=[checkpointer], verbose=1)"
   ]
  },
  {
   "cell_type": "code",
   "execution_count": 37,
   "metadata": {},
   "outputs": [
    {
     "name": "stdout",
     "output_type": "stream",
     "text": [
      "[[1.39096873e-02 1.41312266e-02 9.70822215e-01 1.13685464e-03]\n",
      " [9.81455028e-01 1.54220425e-36 1.25313923e-03 1.72918122e-02]\n",
      " [1.16514997e-03 8.59623194e-01 2.82899886e-02 1.10921666e-01]\n",
      " ...\n",
      " [1.67226177e-02 2.80818553e-04 9.82389331e-01 6.07225869e-04]\n",
      " [9.99975204e-01 0.00000000e+00 2.76340604e-08 2.47724656e-05]\n",
      " [1.15588156e-03 9.29592669e-01 3.73310186e-02 3.19203548e-02]]\n"
     ]
    }
   ],
   "source": [
    "y_pred = model.predict(X_test)\n",
    "print(y_pred)"
   ]
  },
  {
   "cell_type": "code",
   "execution_count": 38,
   "metadata": {},
   "outputs": [
    {
     "name": "stdout",
     "output_type": "stream",
     "text": [
      "Accuracy \n",
      "\n",
      "0.8831335616438356\n",
      "\n",
      "F1 Score \n",
      "\n",
      "0.8932669408962979\n"
     ]
    }
   ],
   "source": [
    "print(\"Accuracy \\n\")\n",
    "print(accuracy_score(y_pred.round(), y_test))\n",
    "print(\"\\nF1 Score \\n\")\n",
    "print(f1_score(y_pred.round(), y_test, average = 'micro'))"
   ]
  },
  {
   "cell_type": "markdown",
   "metadata": {},
   "source": [
    "So, now we have trained several models. Taking into account that the neural networks take much longer to train and model the data, and that the metrics in the case of the AdaBoost are higher, we shall be picking AdaBoost as our classifier to model this problem."
   ]
  },
  {
   "cell_type": "markdown",
   "metadata": {},
   "source": [
    "## 4. Model Tuning"
   ]
  },
  {
   "cell_type": "markdown",
   "metadata": {},
   "source": [
    "So, we have decided on using Adaboost to model our problem. We shall proceed and optimize it further so we can improve its metrics of prediction. "
   ]
  },
  {
   "cell_type": "markdown",
   "metadata": {},
   "source": [
    "## 4.1 Pre-tuning metrics"
   ]
  },
  {
   "cell_type": "markdown",
   "metadata": {},
   "source": [
    "We take our cleaned data that we used earlier when we were comparing Models."
   ]
  },
  {
   "cell_type": "code",
   "execution_count": 39,
   "metadata": {},
   "outputs": [],
   "source": [
    "X_train = SaveX_train\n",
    "X_test = SaveX_test\n",
    "y_train = Savey_train\n",
    "y_test = Savey_test"
   ]
  },
  {
   "cell_type": "code",
   "execution_count": 41,
   "metadata": {},
   "outputs": [
    {
     "name": "stderr",
     "output_type": "stream",
     "text": [
      "c:\\users\\athithya\\anaconda3\\envs\\tf_gpu\\lib\\site-packages\\sklearn\\utils\\validation.py:761: DataConversionWarning: A column-vector y was passed when a 1d array was expected. Please change the shape of y to (n_samples, ), for example using ravel().\n",
      "  y = column_or_1d(y, warn=True)\n"
     ]
    },
    {
     "name": "stdout",
     "output_type": "stream",
     "text": [
      "Accuracy \n",
      "\n",
      "0.9216609589041096\n",
      "\n",
      "F1 Score \n",
      "\n",
      "0.9216609589041096\n",
      "Confusion Matrix: \n",
      " [[568   0   6  10]\n",
      " [  2 527  19  38]\n",
      " [  8   7 577  16]\n",
      " [ 29  16  32 481]]\n",
      "Classification Report: \n",
      "               precision    recall  f1-score   support\n",
      "\n",
      "           0       0.94      0.97      0.95       584\n",
      "           1       0.96      0.90      0.93       586\n",
      "           2       0.91      0.95      0.93       608\n",
      "           3       0.88      0.86      0.87       558\n",
      "\n",
      "   micro avg       0.92      0.92      0.92      2336\n",
      "   macro avg       0.92      0.92      0.92      2336\n",
      "weighted avg       0.92      0.92      0.92      2336\n",
      "\n"
     ]
    }
   ],
   "source": [
    "clf = AdaBoostClassifier(RandomForestClassifier(n_estimators=100))\n",
    "clf.fit(X_train, y_train)\n",
    "y_pred = clf.predict(X_test)\n",
    "print(\"Accuracy \\n\")\n",
    "print(accuracy_score(y_pred.round(), y_test))\n",
    "print(\"\\nF1 Score \\n\")\n",
    "print(f1_score(y_pred, y_test, average = 'micro'))\n",
    "print(\"Confusion Matrix: \\n\",confusion_matrix(y_test, y_pred))\n",
    "print(\"Classification Report: \\n\",classification_report(y_test, y_pred))"
   ]
  },
  {
   "cell_type": "markdown",
   "metadata": {},
   "source": [
    "## 4.2 Tuning\n",
    "\n",
    "Now, we shall proceed to use Grid Search to optimize our Adaboost classifier with different hyperparameters."
   ]
  },
  {
   "cell_type": "code",
   "execution_count": 42,
   "metadata": {},
   "outputs": [],
   "source": [
    "from sklearn import model_selection\n",
    "from sklearn.metrics import accuracy_score\n",
    "from sklearn.metrics import classification_report\n",
    "from sklearn.metrics import confusion_matrix\n",
    "from sklearn.metrics import f1_score\n",
    "from sklearn.linear_model import LogisticRegression\n",
    "from sklearn.tree import DecisionTreeClassifier\n",
    "from sklearn.ensemble import RandomForestClassifier\n",
    "from sklearn.ensemble import AdaBoostClassifier\n",
    "from sklearn import metrics\n",
    "from sklearn.metrics import make_scorer\n",
    "from sklearn.model_selection import GridSearchCV\n"
   ]
  },
  {
   "cell_type": "code",
   "execution_count": 43,
   "metadata": {},
   "outputs": [
    {
     "name": "stderr",
     "output_type": "stream",
     "text": [
      "c:\\users\\athithya\\anaconda3\\envs\\tf_gpu\\lib\\site-packages\\sklearn\\utils\\validation.py:761: DataConversionWarning: A column-vector y was passed when a 1d array was expected. Please change the shape of y to (n_samples, ), for example using ravel().\n",
      "  y = column_or_1d(y, warn=True)\n"
     ]
    },
    {
     "data": {
      "text/plain": [
       "AdaBoostClassifier(algorithm='SAMME.R',\n",
       "          base_estimator=RandomForestClassifier(bootstrap=True, class_weight=None, criterion='gini',\n",
       "            max_depth=None, max_features='auto', max_leaf_nodes=None,\n",
       "            min_impurity_decrease=0.0, min_impurity_split=None,\n",
       "            min_samples_leaf=1, min_samples_split=2,\n",
       "            min_weight_fraction_leaf=0.0, n_estimators=100, n_jobs=None,\n",
       "            oob_score=False, random_state=None, verbose=0,\n",
       "            warm_start=False),\n",
       "          learning_rate=1.0, n_estimators=50, random_state=None)"
      ]
     },
     "execution_count": 43,
     "metadata": {},
     "output_type": "execute_result"
    }
   ],
   "source": [
    "clf = AdaBoostClassifier(RandomForestClassifier(n_estimators=100))\n",
    "clf.fit(X_train, y_train)"
   ]
  },
  {
   "cell_type": "code",
   "execution_count": 44,
   "metadata": {},
   "outputs": [
    {
     "name": "stderr",
     "output_type": "stream",
     "text": [
      "c:\\users\\athithya\\anaconda3\\envs\\tf_gpu\\lib\\site-packages\\sklearn\\model_selection\\_split.py:2053: FutureWarning: You should specify a value for 'cv' instead of relying on the default value. The default value will change from 3 to 5 in version 0.22.\n",
      "  warnings.warn(CV_WARNING, FutureWarning)\n",
      "c:\\users\\athithya\\anaconda3\\envs\\tf_gpu\\lib\\site-packages\\sklearn\\utils\\validation.py:761: DataConversionWarning: A column-vector y was passed when a 1d array was expected. Please change the shape of y to (n_samples, ), for example using ravel().\n",
      "  y = column_or_1d(y, warn=True)\n",
      "c:\\users\\athithya\\anaconda3\\envs\\tf_gpu\\lib\\site-packages\\sklearn\\utils\\validation.py:761: DataConversionWarning: A column-vector y was passed when a 1d array was expected. Please change the shape of y to (n_samples, ), for example using ravel().\n",
      "  y = column_or_1d(y, warn=True)\n",
      "c:\\users\\athithya\\anaconda3\\envs\\tf_gpu\\lib\\site-packages\\sklearn\\utils\\validation.py:761: DataConversionWarning: A column-vector y was passed when a 1d array was expected. Please change the shape of y to (n_samples, ), for example using ravel().\n",
      "  y = column_or_1d(y, warn=True)\n",
      "c:\\users\\athithya\\anaconda3\\envs\\tf_gpu\\lib\\site-packages\\sklearn\\utils\\validation.py:761: DataConversionWarning: A column-vector y was passed when a 1d array was expected. Please change the shape of y to (n_samples, ), for example using ravel().\n",
      "  y = column_or_1d(y, warn=True)\n",
      "c:\\users\\athithya\\anaconda3\\envs\\tf_gpu\\lib\\site-packages\\sklearn\\utils\\validation.py:761: DataConversionWarning: A column-vector y was passed when a 1d array was expected. Please change the shape of y to (n_samples, ), for example using ravel().\n",
      "  y = column_or_1d(y, warn=True)\n",
      "c:\\users\\athithya\\anaconda3\\envs\\tf_gpu\\lib\\site-packages\\sklearn\\utils\\validation.py:761: DataConversionWarning: A column-vector y was passed when a 1d array was expected. Please change the shape of y to (n_samples, ), for example using ravel().\n",
      "  y = column_or_1d(y, warn=True)\n",
      "c:\\users\\athithya\\anaconda3\\envs\\tf_gpu\\lib\\site-packages\\sklearn\\utils\\validation.py:761: DataConversionWarning: A column-vector y was passed when a 1d array was expected. Please change the shape of y to (n_samples, ), for example using ravel().\n",
      "  y = column_or_1d(y, warn=True)\n",
      "c:\\users\\athithya\\anaconda3\\envs\\tf_gpu\\lib\\site-packages\\sklearn\\utils\\validation.py:761: DataConversionWarning: A column-vector y was passed when a 1d array was expected. Please change the shape of y to (n_samples, ), for example using ravel().\n",
      "  y = column_or_1d(y, warn=True)\n",
      "c:\\users\\athithya\\anaconda3\\envs\\tf_gpu\\lib\\site-packages\\sklearn\\utils\\validation.py:761: DataConversionWarning: A column-vector y was passed when a 1d array was expected. Please change the shape of y to (n_samples, ), for example using ravel().\n",
      "  y = column_or_1d(y, warn=True)\n",
      "c:\\users\\athithya\\anaconda3\\envs\\tf_gpu\\lib\\site-packages\\sklearn\\utils\\validation.py:761: DataConversionWarning: A column-vector y was passed when a 1d array was expected. Please change the shape of y to (n_samples, ), for example using ravel().\n",
      "  y = column_or_1d(y, warn=True)\n",
      "c:\\users\\athithya\\anaconda3\\envs\\tf_gpu\\lib\\site-packages\\sklearn\\utils\\validation.py:761: DataConversionWarning: A column-vector y was passed when a 1d array was expected. Please change the shape of y to (n_samples, ), for example using ravel().\n",
      "  y = column_or_1d(y, warn=True)\n",
      "c:\\users\\athithya\\anaconda3\\envs\\tf_gpu\\lib\\site-packages\\sklearn\\utils\\validation.py:761: DataConversionWarning: A column-vector y was passed when a 1d array was expected. Please change the shape of y to (n_samples, ), for example using ravel().\n",
      "  y = column_or_1d(y, warn=True)\n",
      "c:\\users\\athithya\\anaconda3\\envs\\tf_gpu\\lib\\site-packages\\sklearn\\utils\\validation.py:761: DataConversionWarning: A column-vector y was passed when a 1d array was expected. Please change the shape of y to (n_samples, ), for example using ravel().\n",
      "  y = column_or_1d(y, warn=True)\n",
      "c:\\users\\athithya\\anaconda3\\envs\\tf_gpu\\lib\\site-packages\\sklearn\\utils\\validation.py:761: DataConversionWarning: A column-vector y was passed when a 1d array was expected. Please change the shape of y to (n_samples, ), for example using ravel().\n",
      "  y = column_or_1d(y, warn=True)\n",
      "c:\\users\\athithya\\anaconda3\\envs\\tf_gpu\\lib\\site-packages\\sklearn\\utils\\validation.py:761: DataConversionWarning: A column-vector y was passed when a 1d array was expected. Please change the shape of y to (n_samples, ), for example using ravel().\n",
      "  y = column_or_1d(y, warn=True)\n",
      "c:\\users\\athithya\\anaconda3\\envs\\tf_gpu\\lib\\site-packages\\sklearn\\utils\\validation.py:761: DataConversionWarning: A column-vector y was passed when a 1d array was expected. Please change the shape of y to (n_samples, ), for example using ravel().\n",
      "  y = column_or_1d(y, warn=True)\n",
      "c:\\users\\athithya\\anaconda3\\envs\\tf_gpu\\lib\\site-packages\\sklearn\\utils\\validation.py:761: DataConversionWarning: A column-vector y was passed when a 1d array was expected. Please change the shape of y to (n_samples, ), for example using ravel().\n",
      "  y = column_or_1d(y, warn=True)\n",
      "c:\\users\\athithya\\anaconda3\\envs\\tf_gpu\\lib\\site-packages\\sklearn\\utils\\validation.py:761: DataConversionWarning: A column-vector y was passed when a 1d array was expected. Please change the shape of y to (n_samples, ), for example using ravel().\n",
      "  y = column_or_1d(y, warn=True)\n",
      "c:\\users\\athithya\\anaconda3\\envs\\tf_gpu\\lib\\site-packages\\sklearn\\utils\\validation.py:761: DataConversionWarning: A column-vector y was passed when a 1d array was expected. Please change the shape of y to (n_samples, ), for example using ravel().\n",
      "  y = column_or_1d(y, warn=True)\n",
      "c:\\users\\athithya\\anaconda3\\envs\\tf_gpu\\lib\\site-packages\\sklearn\\utils\\validation.py:761: DataConversionWarning: A column-vector y was passed when a 1d array was expected. Please change the shape of y to (n_samples, ), for example using ravel().\n",
      "  y = column_or_1d(y, warn=True)\n",
      "c:\\users\\athithya\\anaconda3\\envs\\tf_gpu\\lib\\site-packages\\sklearn\\utils\\validation.py:761: DataConversionWarning: A column-vector y was passed when a 1d array was expected. Please change the shape of y to (n_samples, ), for example using ravel().\n",
      "  y = column_or_1d(y, warn=True)\n",
      "c:\\users\\athithya\\anaconda3\\envs\\tf_gpu\\lib\\site-packages\\sklearn\\utils\\validation.py:761: DataConversionWarning: A column-vector y was passed when a 1d array was expected. Please change the shape of y to (n_samples, ), for example using ravel().\n",
      "  y = column_or_1d(y, warn=True)\n",
      "c:\\users\\athithya\\anaconda3\\envs\\tf_gpu\\lib\\site-packages\\sklearn\\utils\\validation.py:761: DataConversionWarning: A column-vector y was passed when a 1d array was expected. Please change the shape of y to (n_samples, ), for example using ravel().\n",
      "  y = column_or_1d(y, warn=True)\n",
      "c:\\users\\athithya\\anaconda3\\envs\\tf_gpu\\lib\\site-packages\\sklearn\\utils\\validation.py:761: DataConversionWarning: A column-vector y was passed when a 1d array was expected. Please change the shape of y to (n_samples, ), for example using ravel().\n",
      "  y = column_or_1d(y, warn=True)\n",
      "c:\\users\\athithya\\anaconda3\\envs\\tf_gpu\\lib\\site-packages\\sklearn\\utils\\validation.py:761: DataConversionWarning: A column-vector y was passed when a 1d array was expected. Please change the shape of y to (n_samples, ), for example using ravel().\n",
      "  y = column_or_1d(y, warn=True)\n",
      "c:\\users\\athithya\\anaconda3\\envs\\tf_gpu\\lib\\site-packages\\sklearn\\utils\\validation.py:761: DataConversionWarning: A column-vector y was passed when a 1d array was expected. Please change the shape of y to (n_samples, ), for example using ravel().\n",
      "  y = column_or_1d(y, warn=True)\n",
      "c:\\users\\athithya\\anaconda3\\envs\\tf_gpu\\lib\\site-packages\\sklearn\\utils\\validation.py:761: DataConversionWarning: A column-vector y was passed when a 1d array was expected. Please change the shape of y to (n_samples, ), for example using ravel().\n",
      "  y = column_or_1d(y, warn=True)\n",
      "c:\\users\\athithya\\anaconda3\\envs\\tf_gpu\\lib\\site-packages\\sklearn\\utils\\validation.py:761: DataConversionWarning: A column-vector y was passed when a 1d array was expected. Please change the shape of y to (n_samples, ), for example using ravel().\n",
      "  y = column_or_1d(y, warn=True)\n",
      "c:\\users\\athithya\\anaconda3\\envs\\tf_gpu\\lib\\site-packages\\sklearn\\utils\\validation.py:761: DataConversionWarning: A column-vector y was passed when a 1d array was expected. Please change the shape of y to (n_samples, ), for example using ravel().\n",
      "  y = column_or_1d(y, warn=True)\n"
     ]
    },
    {
     "name": "stderr",
     "output_type": "stream",
     "text": [
      "c:\\users\\athithya\\anaconda3\\envs\\tf_gpu\\lib\\site-packages\\sklearn\\utils\\validation.py:761: DataConversionWarning: A column-vector y was passed when a 1d array was expected. Please change the shape of y to (n_samples, ), for example using ravel().\n",
      "  y = column_or_1d(y, warn=True)\n",
      "c:\\users\\athithya\\anaconda3\\envs\\tf_gpu\\lib\\site-packages\\sklearn\\utils\\validation.py:761: DataConversionWarning: A column-vector y was passed when a 1d array was expected. Please change the shape of y to (n_samples, ), for example using ravel().\n",
      "  y = column_or_1d(y, warn=True)\n",
      "c:\\users\\athithya\\anaconda3\\envs\\tf_gpu\\lib\\site-packages\\sklearn\\utils\\validation.py:761: DataConversionWarning: A column-vector y was passed when a 1d array was expected. Please change the shape of y to (n_samples, ), for example using ravel().\n",
      "  y = column_or_1d(y, warn=True)\n",
      "c:\\users\\athithya\\anaconda3\\envs\\tf_gpu\\lib\\site-packages\\sklearn\\utils\\validation.py:761: DataConversionWarning: A column-vector y was passed when a 1d array was expected. Please change the shape of y to (n_samples, ), for example using ravel().\n",
      "  y = column_or_1d(y, warn=True)\n",
      "c:\\users\\athithya\\anaconda3\\envs\\tf_gpu\\lib\\site-packages\\sklearn\\utils\\validation.py:761: DataConversionWarning: A column-vector y was passed when a 1d array was expected. Please change the shape of y to (n_samples, ), for example using ravel().\n",
      "  y = column_or_1d(y, warn=True)\n",
      "c:\\users\\athithya\\anaconda3\\envs\\tf_gpu\\lib\\site-packages\\sklearn\\utils\\validation.py:761: DataConversionWarning: A column-vector y was passed when a 1d array was expected. Please change the shape of y to (n_samples, ), for example using ravel().\n",
      "  y = column_or_1d(y, warn=True)\n",
      "c:\\users\\athithya\\anaconda3\\envs\\tf_gpu\\lib\\site-packages\\sklearn\\utils\\validation.py:761: DataConversionWarning: A column-vector y was passed when a 1d array was expected. Please change the shape of y to (n_samples, ), for example using ravel().\n",
      "  y = column_or_1d(y, warn=True)\n",
      "c:\\users\\athithya\\anaconda3\\envs\\tf_gpu\\lib\\site-packages\\sklearn\\utils\\validation.py:761: DataConversionWarning: A column-vector y was passed when a 1d array was expected. Please change the shape of y to (n_samples, ), for example using ravel().\n",
      "  y = column_or_1d(y, warn=True)\n",
      "c:\\users\\athithya\\anaconda3\\envs\\tf_gpu\\lib\\site-packages\\sklearn\\utils\\validation.py:761: DataConversionWarning: A column-vector y was passed when a 1d array was expected. Please change the shape of y to (n_samples, ), for example using ravel().\n",
      "  y = column_or_1d(y, warn=True)\n",
      "c:\\users\\athithya\\anaconda3\\envs\\tf_gpu\\lib\\site-packages\\sklearn\\utils\\validation.py:761: DataConversionWarning: A column-vector y was passed when a 1d array was expected. Please change the shape of y to (n_samples, ), for example using ravel().\n",
      "  y = column_or_1d(y, warn=True)\n",
      "c:\\users\\athithya\\anaconda3\\envs\\tf_gpu\\lib\\site-packages\\sklearn\\utils\\validation.py:761: DataConversionWarning: A column-vector y was passed when a 1d array was expected. Please change the shape of y to (n_samples, ), for example using ravel().\n",
      "  y = column_or_1d(y, warn=True)\n",
      "c:\\users\\athithya\\anaconda3\\envs\\tf_gpu\\lib\\site-packages\\sklearn\\utils\\validation.py:761: DataConversionWarning: A column-vector y was passed when a 1d array was expected. Please change the shape of y to (n_samples, ), for example using ravel().\n",
      "  y = column_or_1d(y, warn=True)\n",
      "c:\\users\\athithya\\anaconda3\\envs\\tf_gpu\\lib\\site-packages\\sklearn\\utils\\validation.py:761: DataConversionWarning: A column-vector y was passed when a 1d array was expected. Please change the shape of y to (n_samples, ), for example using ravel().\n",
      "  y = column_or_1d(y, warn=True)\n",
      "c:\\users\\athithya\\anaconda3\\envs\\tf_gpu\\lib\\site-packages\\sklearn\\utils\\validation.py:761: DataConversionWarning: A column-vector y was passed when a 1d array was expected. Please change the shape of y to (n_samples, ), for example using ravel().\n",
      "  y = column_or_1d(y, warn=True)\n",
      "c:\\users\\athithya\\anaconda3\\envs\\tf_gpu\\lib\\site-packages\\sklearn\\utils\\validation.py:761: DataConversionWarning: A column-vector y was passed when a 1d array was expected. Please change the shape of y to (n_samples, ), for example using ravel().\n",
      "  y = column_or_1d(y, warn=True)\n",
      "c:\\users\\athithya\\anaconda3\\envs\\tf_gpu\\lib\\site-packages\\sklearn\\utils\\validation.py:761: DataConversionWarning: A column-vector y was passed when a 1d array was expected. Please change the shape of y to (n_samples, ), for example using ravel().\n",
      "  y = column_or_1d(y, warn=True)\n",
      "c:\\users\\athithya\\anaconda3\\envs\\tf_gpu\\lib\\site-packages\\sklearn\\utils\\validation.py:761: DataConversionWarning: A column-vector y was passed when a 1d array was expected. Please change the shape of y to (n_samples, ), for example using ravel().\n",
      "  y = column_or_1d(y, warn=True)\n",
      "c:\\users\\athithya\\anaconda3\\envs\\tf_gpu\\lib\\site-packages\\sklearn\\utils\\validation.py:761: DataConversionWarning: A column-vector y was passed when a 1d array was expected. Please change the shape of y to (n_samples, ), for example using ravel().\n",
      "  y = column_or_1d(y, warn=True)\n",
      "c:\\users\\athithya\\anaconda3\\envs\\tf_gpu\\lib\\site-packages\\sklearn\\utils\\validation.py:761: DataConversionWarning: A column-vector y was passed when a 1d array was expected. Please change the shape of y to (n_samples, ), for example using ravel().\n",
      "  y = column_or_1d(y, warn=True)\n",
      "c:\\users\\athithya\\anaconda3\\envs\\tf_gpu\\lib\\site-packages\\sklearn\\utils\\validation.py:761: DataConversionWarning: A column-vector y was passed when a 1d array was expected. Please change the shape of y to (n_samples, ), for example using ravel().\n",
      "  y = column_or_1d(y, warn=True)\n"
     ]
    },
    {
     "data": {
      "text/plain": [
       "GridSearchCV(cv='warn', error_score='raise-deprecating',\n",
       "       estimator=AdaBoostClassifier(algorithm='SAMME.R',\n",
       "          base_estimator=RandomForestClassifier(bootstrap=True, class_weight=None, criterion='gini',\n",
       "            max_depth=None, max_features='auto', max_leaf_nodes=None,\n",
       "            min_impurity_decrease=0.0, min_impurity_split=None,\n",
       "            min...e=0,\n",
       "            warm_start=False),\n",
       "          learning_rate=1.0, n_estimators=50, random_state=None),\n",
       "       fit_params=None, iid='warn', n_jobs=None,\n",
       "       param_grid={'n_estimators': [50, 100], 'learning_rate': [0.01, 0.05, 0.1, 0.3, 1, 3, 5, 10]},\n",
       "       pre_dispatch='2*n_jobs', refit=True, return_train_score='warn',\n",
       "       scoring=make_scorer(accuracy_score), verbose=0)"
      ]
     },
     "execution_count": 44,
     "metadata": {},
     "output_type": "execute_result"
    }
   ],
   "source": [
    "param_dist = {\n",
    " 'n_estimators': [50, 100],\n",
    " 'learning_rate' : [0.01,0.05,0.1,0.3,1, 3, 5, 10]\n",
    " }\n",
    "scorer = make_scorer(accuracy_score)\n",
    "gridsearch = GridSearchCV(clf, param_dist, scoring=scorer)\n",
    "gridsearch.fit(X_train, y_train)"
   ]
  },
  {
   "cell_type": "code",
   "execution_count": 45,
   "metadata": {},
   "outputs": [
    {
     "name": "stdout",
     "output_type": "stream",
     "text": [
      "{'learning_rate': 1, 'n_estimators': 100}\n",
      "===========================================================================================\n",
      "0.9154356668807536\n"
     ]
    }
   ],
   "source": [
    "print(gridsearch.best_params_)\n",
    "print(\"===========================================================================================\")\n",
    "print(gridsearch.best_score_)"
   ]
  },
  {
   "cell_type": "markdown",
   "metadata": {},
   "source": [
    "Finally, we shall check the final scores achieved by our optimized model."
   ]
  },
  {
   "cell_type": "code",
   "execution_count": 46,
   "metadata": {},
   "outputs": [
    {
     "name": "stderr",
     "output_type": "stream",
     "text": [
      "c:\\users\\athithya\\anaconda3\\envs\\tf_gpu\\lib\\site-packages\\sklearn\\utils\\validation.py:761: DataConversionWarning: A column-vector y was passed when a 1d array was expected. Please change the shape of y to (n_samples, ), for example using ravel().\n",
      "  y = column_or_1d(y, warn=True)\n"
     ]
    },
    {
     "name": "stdout",
     "output_type": "stream",
     "text": [
      "Accuracy \n",
      "\n",
      "0.9225171232876712\n",
      "\n",
      "F1 Score \n",
      "\n",
      "0.9225171232876712\n",
      "Confusion Matrix: \n",
      " [[570   0   7   7]\n",
      " [  2 525  25  34]\n",
      " [  9   7 573  19]\n",
      " [ 31  15  25 487]]\n",
      "Classification Report: \n",
      "               precision    recall  f1-score   support\n",
      "\n",
      "           0       0.93      0.98      0.95       584\n",
      "           1       0.96      0.90      0.93       586\n",
      "           2       0.91      0.94      0.93       608\n",
      "           3       0.89      0.87      0.88       558\n",
      "\n",
      "   micro avg       0.92      0.92      0.92      2336\n",
      "   macro avg       0.92      0.92      0.92      2336\n",
      "weighted avg       0.92      0.92      0.92      2336\n",
      "\n"
     ]
    }
   ],
   "source": [
    "tuned_clf = AdaBoostClassifier(RandomForestClassifier(n_estimators=100), learning_rate=0.1)\n",
    "tuned_clf.fit(X_train, y_train)\n",
    "y_pred = tuned_clf.predict(X_test)\n",
    "print(\"Accuracy \\n\")\n",
    "print(accuracy_score(y_pred.round(), y_test))\n",
    "print(\"\\nF1 Score \\n\")\n",
    "print(f1_score(y_pred, y_test, average = 'micro'))\n",
    "print(\"Confusion Matrix: \\n\",confusion_matrix(y_test, y_pred))\n",
    "print(\"Classification Report: \\n\",classification_report(y_test, y_pred))"
   ]
  },
  {
   "cell_type": "code",
   "execution_count": null,
   "metadata": {},
   "outputs": [],
   "source": [
    "#plot graph of feature importances \n",
    "fig = plt.figure(figsize = (15,20))\n",
    "feat_importances = pd.Series(tuned_clf.feature_importances_, index=X.columns)\n",
    "feat_importances.plot(kind='barh')\n",
    "plt.show()"
   ]
  },
  {
   "cell_type": "code",
   "execution_count": null,
   "metadata": {},
   "outputs": [],
   "source": []
  },
  {
   "cell_type": "code",
   "execution_count": null,
   "metadata": {},
   "outputs": [],
   "source": []
  },
  {
   "cell_type": "code",
   "execution_count": null,
   "metadata": {},
   "outputs": [],
   "source": []
  }
 ],
 "metadata": {
  "kernelspec": {
   "display_name": "Python 3",
   "language": "python",
   "name": "python3"
  },
  "language_info": {
   "codemirror_mode": {
    "name": "ipython",
    "version": 3
   },
   "file_extension": ".py",
   "mimetype": "text/x-python",
   "name": "python",
   "nbconvert_exporter": "python",
   "pygments_lexer": "ipython3",
   "version": "3.6.2"
  }
 },
 "nbformat": 4,
 "nbformat_minor": 2
}
